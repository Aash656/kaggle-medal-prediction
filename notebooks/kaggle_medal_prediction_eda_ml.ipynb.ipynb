{
 "cells": [
  {
   "cell_type": "markdown",
   "metadata": {},
   "source": [
    "# Importing the required stuff"
   ]
  },
  {
   "cell_type": "code",
   "execution_count": null,
   "metadata": {
    "_cell_guid": "b1076dfc-b9ad-4769-8c92-a6c4dae69d19",
    "_uuid": "8f2839f25d086af736a60e9eeb907d3b93b6e0e5",
    "execution": {
     "iopub.execute_input": "2024-11-20T05:45:21.104478Z",
     "iopub.status.busy": "2024-11-20T05:45:21.103933Z",
     "iopub.status.idle": "2024-11-20T05:45:22.383406Z",
     "shell.execute_reply": "2024-11-20T05:45:22.382201Z",
     "shell.execute_reply.started": "2024-11-20T05:45:21.104436Z"
    },
    "trusted": true
   },
   "outputs": [
    {
     "ename": "",
     "evalue": "",
     "output_type": "error",
     "traceback": [
      "\u001b[1;31mRunning cells with 'Python 3.11.9' requires the ipykernel package.\n",
      "\u001b[1;31mRun the following command to install 'ipykernel' into the Python environment. \n",
      "\u001b[1;31mCommand: 'c:/Users/Adarsh/AppData/Local/Microsoft/WindowsApps/python3.11.exe -m pip install ipykernel -U --user --force-reinstall'"
     ]
    }
   ],
   "source": [
    "import pandas as pd\n",
    "\n",
    "import seaborn as sns\n",
    "import matplotlib.pyplot as plt \n",
    "\n",
    "import numpy as np\n",
    "\n",
    "import datetime as dt"
   ]
  },
  {
   "cell_type": "code",
   "execution_count": null,
   "metadata": {
    "execution": {
     "iopub.execute_input": "2024-11-20T05:45:22.386024Z",
     "iopub.status.busy": "2024-11-20T05:45:22.385526Z",
     "iopub.status.idle": "2024-11-20T05:45:22.391147Z",
     "shell.execute_reply": "2024-11-20T05:45:22.390051Z",
     "shell.execute_reply.started": "2024-11-20T05:45:22.385984Z"
    },
    "trusted": true
   },
   "outputs": [],
   "source": [
    "# To remove warnings\n",
    "import warnings\n",
    "warnings.filterwarnings('ignore')"
   ]
  },
  {
   "cell_type": "code",
   "execution_count": null,
   "metadata": {
    "execution": {
     "iopub.execute_input": "2024-11-20T05:45:22.392829Z",
     "iopub.status.busy": "2024-11-20T05:45:22.392466Z",
     "iopub.status.idle": "2024-11-20T05:45:23.043411Z",
     "shell.execute_reply": "2024-11-20T05:45:23.042283Z",
     "shell.execute_reply.started": "2024-11-20T05:45:22.392794Z"
    },
    "trusted": true
   },
   "outputs": [],
   "source": [
    "# Encoders\n",
    "from sklearn.preprocessing import OneHotEncoder     # Nominal Categorical variables\n",
    "from sklearn.preprocessing import StandardScaler     # Numerical variables\n",
    "\n",
    "from sklearn.model_selection import train_test_split\n",
    "\n",
    "from imblearn.over_sampling import RandomOverSampler"
   ]
  },
  {
   "cell_type": "code",
   "execution_count": null,
   "metadata": {
    "execution": {
     "iopub.execute_input": "2024-11-20T05:45:23.046307Z",
     "iopub.status.busy": "2024-11-20T05:45:23.045793Z",
     "iopub.status.idle": "2024-11-20T05:45:23.051224Z",
     "shell.execute_reply": "2024-11-20T05:45:23.050063Z",
     "shell.execute_reply.started": "2024-11-20T05:45:23.046270Z"
    },
    "trusted": true
   },
   "outputs": [],
   "source": [
    "from sklearn.ensemble import RandomForestClassifier"
   ]
  },
  {
   "cell_type": "code",
   "execution_count": null,
   "metadata": {
    "execution": {
     "iopub.execute_input": "2024-11-20T05:45:23.053007Z",
     "iopub.status.busy": "2024-11-20T05:45:23.052596Z",
     "iopub.status.idle": "2024-11-20T05:45:23.074461Z",
     "shell.execute_reply": "2024-11-20T05:45:23.073094Z",
     "shell.execute_reply.started": "2024-11-20T05:45:23.052972Z"
    },
    "trusted": true
   },
   "outputs": [],
   "source": [
    "from sklearn.metrics import (\n",
    "    accuracy_score,\n",
    "    precision_score,\n",
    "    recall_score,\n",
    "    f1_score,\n",
    "    confusion_matrix,\n",
    "    roc_curve,\n",
    "    roc_auc_score,\n",
    "    log_loss\n",
    ")"
   ]
  },
  {
   "cell_type": "code",
   "execution_count": null,
   "metadata": {
    "execution": {
     "iopub.execute_input": "2024-11-20T05:45:23.076491Z",
     "iopub.status.busy": "2024-11-20T05:45:23.076023Z",
     "iopub.status.idle": "2024-11-20T05:45:23.186308Z",
     "shell.execute_reply": "2024-11-20T05:45:23.185216Z",
     "shell.execute_reply.started": "2024-11-20T05:45:23.076437Z"
    },
    "trusted": true
   },
   "outputs": [],
   "source": [
    "df = pd.read_csv('/data/kaggle-preprocessed.csv')"
   ]
  },
  {
   "cell_type": "markdown",
   "metadata": {},
   "source": [
    "# Understanding our dataset"
   ]
  },
  {
   "cell_type": "code",
   "execution_count": null,
   "metadata": {
    "execution": {
     "iopub.execute_input": "2024-11-20T05:45:23.187946Z",
     "iopub.status.busy": "2024-11-20T05:45:23.187546Z",
     "iopub.status.idle": "2024-11-20T05:45:23.219264Z",
     "shell.execute_reply": "2024-11-20T05:45:23.218047Z",
     "shell.execute_reply.started": "2024-11-20T05:45:23.187910Z"
    },
    "trusted": true
   },
   "outputs": [],
   "source": [
    "# Checking the first five rows\n",
    "df.head()"
   ]
  },
  {
   "cell_type": "code",
   "execution_count": null,
   "metadata": {
    "execution": {
     "iopub.execute_input": "2024-11-20T05:45:23.221166Z",
     "iopub.status.busy": "2024-11-20T05:45:23.220746Z",
     "iopub.status.idle": "2024-11-20T05:45:23.241845Z",
     "shell.execute_reply": "2024-11-20T05:45:23.240488Z",
     "shell.execute_reply.started": "2024-11-20T05:45:23.221119Z"
    },
    "trusted": true
   },
   "outputs": [],
   "source": [
    "# Checking the last five rows\n",
    "df.tail()"
   ]
  },
  {
   "cell_type": "code",
   "execution_count": null,
   "metadata": {
    "execution": {
     "iopub.execute_input": "2024-11-20T05:45:23.243635Z",
     "iopub.status.busy": "2024-11-20T05:45:23.243175Z",
     "iopub.status.idle": "2024-11-20T05:45:23.267266Z",
     "shell.execute_reply": "2024-11-20T05:45:23.266203Z",
     "shell.execute_reply.started": "2024-11-20T05:45:23.243581Z"
    },
    "trusted": true
   },
   "outputs": [],
   "source": [
    "df.info"
   ]
  },
  {
   "cell_type": "code",
   "execution_count": null,
   "metadata": {
    "execution": {
     "iopub.execute_input": "2024-11-20T05:45:23.273103Z",
     "iopub.status.busy": "2024-11-20T05:45:23.272513Z",
     "iopub.status.idle": "2024-11-20T05:45:23.282070Z",
     "shell.execute_reply": "2024-11-20T05:45:23.280786Z",
     "shell.execute_reply.started": "2024-11-20T05:45:23.273047Z"
    },
    "trusted": true
   },
   "outputs": [],
   "source": [
    "df.shape"
   ]
  },
  {
   "cell_type": "markdown",
   "metadata": {},
   "source": [
    "# Cleaning the data"
   ]
  },
  {
   "cell_type": "code",
   "execution_count": null,
   "metadata": {
    "execution": {
     "iopub.execute_input": "2024-11-20T05:45:23.283934Z",
     "iopub.status.busy": "2024-11-20T05:45:23.283502Z",
     "iopub.status.idle": "2024-11-20T05:45:23.304913Z",
     "shell.execute_reply": "2024-11-20T05:45:23.303616Z",
     "shell.execute_reply.started": "2024-11-20T05:45:23.283896Z"
    },
    "trusted": true
   },
   "outputs": [],
   "source": [
    "# Checking for null values\n",
    "df.isnull().sum()"
   ]
  },
  {
   "cell_type": "code",
   "execution_count": null,
   "metadata": {
    "execution": {
     "iopub.execute_input": "2024-11-20T05:45:23.306824Z",
     "iopub.status.busy": "2024-11-20T05:45:23.306310Z",
     "iopub.status.idle": "2024-11-20T05:45:23.332998Z",
     "shell.execute_reply": "2024-11-20T05:45:23.331821Z",
     "shell.execute_reply.started": "2024-11-20T05:45:23.306786Z"
    },
    "trusted": true
   },
   "outputs": [],
   "source": [
    "# Checking for duplicated rows\n",
    "df.duplicated().sum()"
   ]
  },
  {
   "cell_type": "markdown",
   "metadata": {},
   "source": [
    "Basic cleaning has been done.  \n",
    "There are no missing or duplicated values, we can proceed to the next step."
   ]
  },
  {
   "cell_type": "code",
   "execution_count": null,
   "metadata": {
    "execution": {
     "iopub.execute_input": "2024-11-20T05:45:23.334874Z",
     "iopub.status.busy": "2024-11-20T05:45:23.334430Z",
     "iopub.status.idle": "2024-11-20T05:45:23.343996Z",
     "shell.execute_reply": "2024-11-20T05:45:23.342857Z",
     "shell.execute_reply.started": "2024-11-20T05:45:23.334826Z"
    },
    "trusted": true
   },
   "outputs": [],
   "source": [
    "### Cleaning column names\n",
    "df.columns = df.columns.str.lower()\n",
    "df.columns"
   ]
  },
  {
   "cell_type": "markdown",
   "metadata": {},
   "source": [
    "# Feature Engineering"
   ]
  },
  {
   "cell_type": "markdown",
   "metadata": {},
   "source": [
    "### Creating Date feature"
   ]
  },
  {
   "cell_type": "code",
   "execution_count": null,
   "metadata": {
    "execution": {
     "iopub.execute_input": "2024-11-20T05:45:23.345837Z",
     "iopub.status.busy": "2024-11-20T05:45:23.345435Z",
     "iopub.status.idle": "2024-11-20T05:45:23.370842Z",
     "shell.execute_reply": "2024-11-20T05:45:23.369567Z",
     "shell.execute_reply.started": "2024-11-20T05:45:23.345801Z"
    },
    "trusted": true
   },
   "outputs": [],
   "source": [
    "# Converting date to datetime format\n",
    "df['date'] = pd.to_datetime(df['date'])\n",
    "\n",
    "# Getting year and month columns\n",
    "df['year'] = df['date'].dt.year\n",
    "df['month'] = df['date'].dt.month"
   ]
  },
  {
   "cell_type": "markdown",
   "metadata": {},
   "source": [
    "### Extracting 'hour' from 'time' column."
   ]
  },
  {
   "cell_type": "code",
   "execution_count": null,
   "metadata": {
    "execution": {
     "iopub.execute_input": "2024-11-20T05:45:23.372535Z",
     "iopub.status.busy": "2024-11-20T05:45:23.372192Z",
     "iopub.status.idle": "2024-11-20T05:45:23.670800Z",
     "shell.execute_reply": "2024-11-20T05:45:23.669639Z",
     "shell.execute_reply.started": "2024-11-20T05:45:23.372500Z"
    },
    "trusted": true
   },
   "outputs": [],
   "source": [
    "# converting time into hours\n",
    "df['time'] = pd.to_datetime(df['time'])\n",
    "df['time'] = df['time'].dt.hour"
   ]
  },
  {
   "cell_type": "code",
   "execution_count": null,
   "metadata": {
    "execution": {
     "iopub.execute_input": "2024-11-20T05:45:23.672644Z",
     "iopub.status.busy": "2024-11-20T05:45:23.672190Z",
     "iopub.status.idle": "2024-11-20T05:45:23.684127Z",
     "shell.execute_reply": "2024-11-20T05:45:23.682596Z",
     "shell.execute_reply.started": "2024-11-20T05:45:23.672588Z"
    },
    "trusted": true
   },
   "outputs": [],
   "source": [
    "# Dropping the date column\n",
    "df.drop(columns='date', inplace=True)"
   ]
  },
  {
   "cell_type": "markdown",
   "metadata": {},
   "source": [
    "### Standardizing the units of the 'size' column"
   ]
  },
  {
   "cell_type": "code",
   "execution_count": null,
   "metadata": {
    "execution": {
     "iopub.execute_input": "2024-11-20T05:45:23.685867Z",
     "iopub.status.busy": "2024-11-20T05:45:23.685354Z",
     "iopub.status.idle": "2024-11-20T05:45:23.702450Z",
     "shell.execute_reply": "2024-11-20T05:45:23.701203Z",
     "shell.execute_reply.started": "2024-11-20T05:45:23.685803Z"
    },
    "trusted": true
   },
   "outputs": [],
   "source": [
    "# Checking all the storage format\n",
    "df['size'].str[-2:].unique()"
   ]
  },
  {
   "cell_type": "code",
   "execution_count": null,
   "metadata": {
    "execution": {
     "iopub.execute_input": "2024-11-20T05:45:23.705136Z",
     "iopub.status.busy": "2024-11-20T05:45:23.704254Z",
     "iopub.status.idle": "2024-11-20T05:45:23.713370Z",
     "shell.execute_reply": "2024-11-20T05:45:23.712515Z",
     "shell.execute_reply.started": "2024-11-20T05:45:23.705084Z"
    },
    "trusted": true
   },
   "outputs": [],
   "source": [
    "# Define the conversion factors for different units\n",
    "units = {'KB': 1e-3, 'MB': 1, 'GB': 1e3, 'B': 1e-6, 'K': 1e-3}  # 'K' added for cases like '491 K'\n",
    "\n",
    "# Function to clean and convert file sizes to MB\n",
    "def convert_size(size_str):\n",
    "    \n",
    "    # Clean the string: remove spaces, standardize case\n",
    "    size_str = size_str.strip().replace(' ', '').upper() \n",
    "    \n",
    "    for unit in units:\n",
    "        if unit in size_str:\n",
    "            try:\n",
    "                return float(size_str.replace(unit, '')) * units[unit]\n",
    "            except ValueError:\n",
    "                return 0  # In case of any unexpected formatting errors\n",
    "    return 0  # Default to 0 if no valid unit is found"
   ]
  },
  {
   "cell_type": "code",
   "execution_count": null,
   "metadata": {
    "execution": {
     "iopub.execute_input": "2024-11-20T05:45:23.715596Z",
     "iopub.status.busy": "2024-11-20T05:45:23.715155Z",
     "iopub.status.idle": "2024-11-20T05:45:23.740950Z",
     "shell.execute_reply": "2024-11-20T05:45:23.739486Z",
     "shell.execute_reply.started": "2024-11-20T05:45:23.715545Z"
    },
    "trusted": true
   },
   "outputs": [],
   "source": [
    "# Read the large CSV file in chunks and process each chunk\n",
    "chunk_size = 10000\n",
    "df_list = []  # List to store processed chunks\n",
    "\n",
    "# Loop to read data in chunks\n",
    "for start in range(0, len(df), chunk_size):\n",
    "    end = min(start + chunk_size, len(df))  # Calculate the end of the chunk\n",
    "    chunk = df.iloc[start:end]  # Slice the DataFrame to create a chunk\n",
    "    \n",
    "    # processing in chunks \n",
    "    chunk['size_in_mb'] = chunk['size'].apply(convert_size)\n",
    "    \n",
    "    # appending the processed chunk\n",
    "    df_list.append(chunk)\n",
    "\n",
    "# Concatenate all processed chunks into a final DataFrame\n",
    "df = pd.concat(df_list)\n",
    "\n",
    "print(\"Processing complete. The final dataset has been saved as 'processed_large_dataset.csv'.\")"
   ]
  },
  {
   "cell_type": "code",
   "execution_count": null,
   "metadata": {
    "execution": {
     "iopub.execute_input": "2024-11-20T05:45:23.742614Z",
     "iopub.status.busy": "2024-11-20T05:45:23.742199Z",
     "iopub.status.idle": "2024-11-20T05:45:23.760894Z",
     "shell.execute_reply": "2024-11-20T05:45:23.759594Z",
     "shell.execute_reply.started": "2024-11-20T05:45:23.742564Z"
    },
    "trusted": true
   },
   "outputs": [],
   "source": [
    "# Dropping size column\n",
    "df.drop(columns='size', inplace=True)"
   ]
  },
  {
   "cell_type": "markdown",
   "metadata": {},
   "source": [
    "# EDA - Exploratory Data Analysis"
   ]
  },
  {
   "cell_type": "code",
   "execution_count": null,
   "metadata": {
    "execution": {
     "iopub.execute_input": "2024-11-20T05:45:23.762589Z",
     "iopub.status.busy": "2024-11-20T05:45:23.762145Z",
     "iopub.status.idle": "2024-11-20T05:45:23.790052Z",
     "shell.execute_reply": "2024-11-20T05:45:23.788764Z",
     "shell.execute_reply.started": "2024-11-20T05:45:23.762541Z"
    },
    "trusted": true
   },
   "outputs": [],
   "source": [
    "palette='rocket'"
   ]
  },
  {
   "cell_type": "code",
   "execution_count": null,
   "metadata": {
    "execution": {
     "iopub.execute_input": "2024-11-20T05:45:23.792184Z",
     "iopub.status.busy": "2024-11-20T05:45:23.791743Z",
     "iopub.status.idle": "2024-11-20T05:45:23.816770Z",
     "shell.execute_reply": "2024-11-20T05:45:23.815569Z",
     "shell.execute_reply.started": "2024-11-20T05:45:23.792136Z"
    },
    "trusted": true
   },
   "outputs": [],
   "source": [
    "# Checking the years of the datasets.\n",
    "list = df['year'].unique()\n",
    "print(np.sort(list))"
   ]
  },
  {
   "cell_type": "markdown",
   "metadata": {},
   "source": [
    "* > our dataset contains datasets uploaded between the years 2016 and 2023"
   ]
  },
  {
   "cell_type": "code",
   "execution_count": null,
   "metadata": {
    "execution": {
     "iopub.execute_input": "2024-11-20T05:45:23.819491Z",
     "iopub.status.busy": "2024-11-20T05:45:23.818033Z",
     "iopub.status.idle": "2024-11-20T05:45:24.179351Z",
     "shell.execute_reply": "2024-11-20T05:45:24.178183Z",
     "shell.execute_reply.started": "2024-11-20T05:45:23.819438Z"
    },
    "trusted": true
   },
   "outputs": [],
   "source": [
    "sns.countplot(x=df['medals'], palette=palette)\n",
    "plt.title('Number of medals')"
   ]
  },
  {
   "cell_type": "markdown",
   "metadata": {},
   "source": [
    "* > Most datasets have Bronze medal, followed by No medal."
   ]
  },
  {
   "cell_type": "code",
   "execution_count": null,
   "metadata": {
    "execution": {
     "iopub.execute_input": "2024-11-20T05:45:24.181092Z",
     "iopub.status.busy": "2024-11-20T05:45:24.180631Z",
     "iopub.status.idle": "2024-11-20T05:45:24.622632Z",
     "shell.execute_reply": "2024-11-20T05:45:24.621632Z",
     "shell.execute_reply.started": "2024-11-20T05:45:24.181040Z"
    },
    "trusted": true
   },
   "outputs": [],
   "source": [
    "sns.countplot(x=df['medals'], hue=df['day'], palette=palette)\n",
    "plt.title('Medal Distribution acc. to days')"
   ]
  },
  {
   "cell_type": "markdown",
   "metadata": {},
   "source": [
    "* > We can see that most of the Gold medal datasets were uploaded on Thursdays.\n",
    "* > And most Silvers on Monday."
   ]
  },
  {
   "cell_type": "code",
   "execution_count": null,
   "metadata": {
    "execution": {
     "iopub.execute_input": "2024-11-20T05:45:24.625335Z",
     "iopub.status.busy": "2024-11-20T05:45:24.623941Z",
     "iopub.status.idle": "2024-11-20T05:45:24.952192Z",
     "shell.execute_reply": "2024-11-20T05:45:24.950871Z",
     "shell.execute_reply.started": "2024-11-20T05:45:24.625283Z"
    },
    "trusted": true
   },
   "outputs": [],
   "source": [
    "sns.histplot(data=df['usability'])"
   ]
  },
  {
   "cell_type": "markdown",
   "metadata": {},
   "source": [
    "* > The usability scores are negatively skewed."
   ]
  },
  {
   "cell_type": "code",
   "execution_count": null,
   "metadata": {
    "execution": {
     "iopub.execute_input": "2024-11-20T05:45:24.954164Z",
     "iopub.status.busy": "2024-11-20T05:45:24.953709Z",
     "iopub.status.idle": "2024-11-20T05:45:25.365528Z",
     "shell.execute_reply": "2024-11-20T05:45:25.364349Z",
     "shell.execute_reply.started": "2024-11-20T05:45:24.954121Z"
    },
    "trusted": true
   },
   "outputs": [],
   "source": [
    "sns.barplot(x=df['medals'], y=df['size_in_mb'], palette=palette)\n",
    "plt.title('Medals acc to size in mb')"
   ]
  },
  {
   "cell_type": "markdown",
   "metadata": {},
   "source": [
    "# Feature Selection"
   ]
  },
  {
   "cell_type": "code",
   "execution_count": null,
   "metadata": {
    "execution": {
     "iopub.execute_input": "2024-11-20T05:45:25.367380Z",
     "iopub.status.busy": "2024-11-20T05:45:25.367017Z",
     "iopub.status.idle": "2024-11-20T05:45:25.374863Z",
     "shell.execute_reply": "2024-11-20T05:45:25.373751Z",
     "shell.execute_reply.started": "2024-11-20T05:45:25.367346Z"
    },
    "trusted": true
   },
   "outputs": [],
   "source": [
    "# Droppping unecessary columns\n",
    "df.drop(columns=['unnamed: 0', 'dataset_name', 'author_name', 'author_id', 'dataset_link'], inplace=True)"
   ]
  },
  {
   "cell_type": "code",
   "execution_count": null,
   "metadata": {
    "execution": {
     "iopub.execute_input": "2024-11-20T05:45:25.380596Z",
     "iopub.status.busy": "2024-11-20T05:45:25.380138Z",
     "iopub.status.idle": "2024-11-20T05:45:25.388716Z",
     "shell.execute_reply": "2024-11-20T05:45:25.387557Z",
     "shell.execute_reply.started": "2024-11-20T05:45:25.380538Z"
    },
    "trusted": true
   },
   "outputs": [],
   "source": [
    "# getting column names\n",
    "df.columns"
   ]
  },
  {
   "cell_type": "markdown",
   "metadata": {},
   "source": [
    "# Pre-Processing"
   ]
  },
  {
   "cell_type": "markdown",
   "metadata": {},
   "source": [
    "## Encoding & Scaling the features"
   ]
  },
  {
   "cell_type": "code",
   "execution_count": null,
   "metadata": {
    "execution": {
     "iopub.execute_input": "2024-11-20T05:45:25.390474Z",
     "iopub.status.busy": "2024-11-20T05:45:25.390134Z",
     "iopub.status.idle": "2024-11-20T05:45:25.408438Z",
     "shell.execute_reply": "2024-11-20T05:45:25.407190Z",
     "shell.execute_reply.started": "2024-11-20T05:45:25.390440Z"
    },
    "trusted": true
   },
   "outputs": [],
   "source": [
    "# Getting categorical columns\n",
    "categorical_features = df.select_dtypes(include='object').columns\n",
    "numerical_features = [item for item in df.columns if item not in categorical_features]"
   ]
  },
  {
   "cell_type": "code",
   "execution_count": null,
   "metadata": {
    "execution": {
     "iopub.execute_input": "2024-11-20T05:45:25.410609Z",
     "iopub.status.busy": "2024-11-20T05:45:25.410123Z",
     "iopub.status.idle": "2024-11-20T05:45:25.426838Z",
     "shell.execute_reply": "2024-11-20T05:45:25.425477Z",
     "shell.execute_reply.started": "2024-11-20T05:45:25.410557Z"
    },
    "trusted": true
   },
   "outputs": [],
   "source": [
    "# Encoding Nominal Features\n",
    "# Nominal features - have an order of ranking\n",
    "\n",
    "# Manual Mapping\n",
    "df['medals'] = df['medals'].map({'No Medal': 0, 'Bronze': 1, 'Silver': 2, 'Gold': 3})\n",
    "\n",
    "# We don't use Label ENcoder as it maps the data in alphabetical order.\n",
    "# We will not have complete control.\n",
    "# But manual mapping gives me control to assign highest value to Gold and the least value to No Medal"
   ]
  },
  {
   "cell_type": "code",
   "execution_count": null,
   "metadata": {
    "execution": {
     "iopub.execute_input": "2024-11-20T05:45:25.429551Z",
     "iopub.status.busy": "2024-11-20T05:45:25.428410Z",
     "iopub.status.idle": "2024-11-20T05:45:25.438846Z",
     "shell.execute_reply": "2024-11-20T05:45:25.437699Z",
     "shell.execute_reply.started": "2024-11-20T05:45:25.429494Z"
    },
    "trusted": true
   },
   "outputs": [],
   "source": [
    "# Dropping medals cos we already encoded it.\n",
    "categorical_features = df[categorical_features].drop(columns='medals').columns"
   ]
  },
  {
   "cell_type": "code",
   "execution_count": null,
   "metadata": {
    "execution": {
     "iopub.execute_input": "2024-11-20T05:45:25.441245Z",
     "iopub.status.busy": "2024-11-20T05:45:25.440780Z",
     "iopub.status.idle": "2024-11-20T05:45:25.467594Z",
     "shell.execute_reply": "2024-11-20T05:45:25.466500Z",
     "shell.execute_reply.started": "2024-11-20T05:45:25.441194Z"
    },
    "trusted": true
   },
   "outputs": [],
   "source": [
    "# Encoding the catogorical nominal features\n",
    "encoder = OneHotEncoder(sparse=False)\n",
    "\n",
    "for feature in categorical_features:\n",
    "    df[feature] = encoder.fit_transform(df[[feature]])\n",
    "\n",
    "    \n",
    "# 'sparse=1': saves memory by only storing non-zero values"
   ]
  },
  {
   "cell_type": "code",
   "execution_count": null,
   "metadata": {
    "execution": {
     "iopub.execute_input": "2024-11-20T05:45:25.469433Z",
     "iopub.status.busy": "2024-11-20T05:45:25.468995Z",
     "iopub.status.idle": "2024-11-20T05:45:25.507864Z",
     "shell.execute_reply": "2024-11-20T05:45:25.506745Z",
     "shell.execute_reply.started": "2024-11-20T05:45:25.469382Z"
    },
    "trusted": true
   },
   "outputs": [],
   "source": [
    "# Scaling numeric features\n",
    "encoder = StandardScaler()\n",
    "\n",
    "for feature in numerical_features:\n",
    "    df[feature] = encoder.fit_transform(df[[feature]])"
   ]
  },
  {
   "cell_type": "markdown",
   "metadata": {
    "execution": {
     "iopub.execute_input": "2024-10-15T08:32:10.849669Z",
     "iopub.status.busy": "2024-10-15T08:32:10.849188Z",
     "iopub.status.idle": "2024-10-15T08:32:10.854899Z",
     "shell.execute_reply": "2024-10-15T08:32:10.853659Z",
     "shell.execute_reply.started": "2024-10-15T08:32:10.849623Z"
    }
   },
   "source": [
    "## Train-Test Split"
   ]
  },
  {
   "cell_type": "code",
   "execution_count": null,
   "metadata": {
    "execution": {
     "iopub.execute_input": "2024-11-20T05:45:25.509793Z",
     "iopub.status.busy": "2024-11-20T05:45:25.509034Z",
     "iopub.status.idle": "2024-11-20T05:45:25.516350Z",
     "shell.execute_reply": "2024-11-20T05:45:25.515187Z",
     "shell.execute_reply.started": "2024-11-20T05:45:25.509751Z"
    },
    "trusted": true
   },
   "outputs": [],
   "source": [
    "Y = df['medals']\n",
    "X = df.drop(columns='medals')"
   ]
  },
  {
   "cell_type": "code",
   "execution_count": null,
   "metadata": {
    "execution": {
     "iopub.execute_input": "2024-11-20T05:45:25.518389Z",
     "iopub.status.busy": "2024-11-20T05:45:25.517962Z",
     "iopub.status.idle": "2024-11-20T05:45:25.530506Z",
     "shell.execute_reply": "2024-11-20T05:45:25.529358Z",
     "shell.execute_reply.started": "2024-11-20T05:45:25.518342Z"
    },
    "trusted": true
   },
   "outputs": [],
   "source": [
    "x_train, x_test, y_train, y_test = train_test_split(X, Y, test_size=0.2, random_state=66)"
   ]
  },
  {
   "cell_type": "markdown",
   "metadata": {},
   "source": [
    "## Oversampling"
   ]
  },
  {
   "cell_type": "code",
   "execution_count": null,
   "metadata": {
    "execution": {
     "iopub.execute_input": "2024-11-20T05:45:25.532963Z",
     "iopub.status.busy": "2024-11-20T05:45:25.532484Z",
     "iopub.status.idle": "2024-11-20T05:45:25.554519Z",
     "shell.execute_reply": "2024-11-20T05:45:25.553024Z",
     "shell.execute_reply.started": "2024-11-20T05:45:25.532911Z"
    },
    "trusted": true
   },
   "outputs": [],
   "source": [
    "# Initialize RandomOverSampler\n",
    "ros = RandomOverSampler(random_state=60)\n",
    "\n",
    "# Fit and resample\n",
    "X_resampled, y_resampled = ros.fit_resample(x_train, y_train)"
   ]
  },
  {
   "cell_type": "code",
   "execution_count": null,
   "metadata": {
    "execution": {
     "iopub.execute_input": "2024-11-20T05:45:25.556386Z",
     "iopub.status.busy": "2024-11-20T05:45:25.555939Z",
     "iopub.status.idle": "2024-11-20T05:45:25.562510Z",
     "shell.execute_reply": "2024-11-20T05:45:25.561345Z",
     "shell.execute_reply.started": "2024-11-20T05:45:25.556335Z"
    },
    "trusted": true
   },
   "outputs": [],
   "source": [
    "# CHecking the number of samples taken\n",
    "values, count = np.unique(y_resampled, return_counts=True)"
   ]
  },
  {
   "cell_type": "code",
   "execution_count": null,
   "metadata": {
    "execution": {
     "iopub.execute_input": "2024-11-20T05:45:25.564306Z",
     "iopub.status.busy": "2024-11-20T05:45:25.563861Z",
     "iopub.status.idle": "2024-11-20T05:45:25.574448Z",
     "shell.execute_reply": "2024-11-20T05:45:25.573351Z",
     "shell.execute_reply.started": "2024-11-20T05:45:25.564270Z"
    },
    "trusted": true
   },
   "outputs": [],
   "source": [
    "print(f'Unique values of medals: {values}')\n",
    "print(f'No. of samples taken from each: {values}')"
   ]
  },
  {
   "cell_type": "markdown",
   "metadata": {
    "execution": {
     "iopub.execute_input": "2024-10-15T08:42:01.464137Z",
     "iopub.status.busy": "2024-10-15T08:42:01.463285Z",
     "iopub.status.idle": "2024-10-15T08:42:01.468970Z",
     "shell.execute_reply": "2024-10-15T08:42:01.467491Z",
     "shell.execute_reply.started": "2024-10-15T08:42:01.464089Z"
    }
   },
   "source": [
    "# Modelling"
   ]
  },
  {
   "cell_type": "markdown",
   "metadata": {},
   "source": [
    "## Initialising Model"
   ]
  },
  {
   "cell_type": "code",
   "execution_count": null,
   "metadata": {
    "execution": {
     "iopub.execute_input": "2024-11-20T05:45:25.576618Z",
     "iopub.status.busy": "2024-11-20T05:45:25.576143Z",
     "iopub.status.idle": "2024-11-20T05:45:25.589126Z",
     "shell.execute_reply": "2024-11-20T05:45:25.587953Z",
     "shell.execute_reply.started": "2024-11-20T05:45:25.576569Z"
    },
    "trusted": true
   },
   "outputs": [],
   "source": [
    "model = RandomForestClassifier(random_state=60)"
   ]
  },
  {
   "cell_type": "markdown",
   "metadata": {},
   "source": [
    "## Training the model"
   ]
  },
  {
   "cell_type": "code",
   "execution_count": null,
   "metadata": {
    "execution": {
     "iopub.execute_input": "2024-11-20T05:45:25.591478Z",
     "iopub.status.busy": "2024-11-20T05:45:25.590589Z",
     "iopub.status.idle": "2024-11-20T05:45:26.683327Z",
     "shell.execute_reply": "2024-11-20T05:45:26.682046Z",
     "shell.execute_reply.started": "2024-11-20T05:45:25.591429Z"
    },
    "trusted": true
   },
   "outputs": [],
   "source": [
    "#model.fit(X_resampled, y_resampled)\n",
    "model.fit(x_train, y_train)"
   ]
  },
  {
   "cell_type": "markdown",
   "metadata": {},
   "source": [
    "## Predicting"
   ]
  },
  {
   "cell_type": "code",
   "execution_count": null,
   "metadata": {
    "execution": {
     "iopub.execute_input": "2024-11-20T05:45:26.685403Z",
     "iopub.status.busy": "2024-11-20T05:45:26.685016Z",
     "iopub.status.idle": "2024-11-20T05:45:26.741268Z",
     "shell.execute_reply": "2024-11-20T05:45:26.739991Z",
     "shell.execute_reply.started": "2024-11-20T05:45:26.685362Z"
    },
    "trusted": true
   },
   "outputs": [],
   "source": [
    "y_pred = model.predict(x_test)"
   ]
  },
  {
   "cell_type": "markdown",
   "metadata": {},
   "source": [
    "## Model Evaluation"
   ]
  },
  {
   "cell_type": "code",
   "execution_count": null,
   "metadata": {
    "execution": {
     "iopub.execute_input": "2024-11-20T05:45:26.743119Z",
     "iopub.status.busy": "2024-11-20T05:45:26.742626Z",
     "iopub.status.idle": "2024-11-20T05:45:26.748294Z",
     "shell.execute_reply": "2024-11-20T05:45:26.747174Z",
     "shell.execute_reply.started": "2024-11-20T05:45:26.743065Z"
    },
    "trusted": true
   },
   "outputs": [],
   "source": [
    "metrics = {'precision': precision_score,\n",
    "           'recall':recall_score}"
   ]
  },
  {
   "cell_type": "code",
   "execution_count": null,
   "metadata": {
    "execution": {
     "iopub.execute_input": "2024-11-20T05:45:26.749886Z",
     "iopub.status.busy": "2024-11-20T05:45:26.749475Z",
     "iopub.status.idle": "2024-11-20T05:45:26.769330Z",
     "shell.execute_reply": "2024-11-20T05:45:26.768055Z",
     "shell.execute_reply.started": "2024-11-20T05:45:26.749834Z"
    },
    "trusted": true
   },
   "outputs": [],
   "source": [
    "for name, metric in metrics.items():\n",
    "    print(name, ' : ', metric(y_test, y_pred, average='weighted'))"
   ]
  },
  {
   "cell_type": "markdown",
   "metadata": {},
   "source": [
    "## Understanding the Model"
   ]
  },
  {
   "cell_type": "code",
   "execution_count": null,
   "metadata": {
    "execution": {
     "iopub.execute_input": "2024-11-20T05:45:26.771238Z",
     "iopub.status.busy": "2024-11-20T05:45:26.770788Z",
     "iopub.status.idle": "2024-11-20T05:45:26.781666Z",
     "shell.execute_reply": "2024-11-20T05:45:26.780566Z",
     "shell.execute_reply.started": "2024-11-20T05:45:26.771190Z"
    },
    "trusted": true
   },
   "outputs": [],
   "source": [
    "df.shape"
   ]
  },
  {
   "cell_type": "code",
   "execution_count": null,
   "metadata": {
    "execution": {
     "iopub.execute_input": "2024-11-20T05:45:26.783548Z",
     "iopub.status.busy": "2024-11-20T05:45:26.783121Z",
     "iopub.status.idle": "2024-11-20T05:45:26.797263Z",
     "shell.execute_reply": "2024-11-20T05:45:26.796091Z",
     "shell.execute_reply.started": "2024-11-20T05:45:26.783499Z"
    },
    "trusted": true
   },
   "outputs": [],
   "source": [
    "df.dtypes"
   ]
  },
  {
   "cell_type": "code",
   "execution_count": null,
   "metadata": {
    "execution": {
     "iopub.execute_input": "2024-11-20T05:45:26.799157Z",
     "iopub.status.busy": "2024-11-20T05:45:26.798803Z",
     "iopub.status.idle": "2024-11-20T05:45:26.820799Z",
     "shell.execute_reply": "2024-11-20T05:45:26.819609Z",
     "shell.execute_reply.started": "2024-11-20T05:45:26.799122Z"
    },
    "trusted": true
   },
   "outputs": [],
   "source": [
    "feature_importances = model.feature_importances_"
   ]
  },
  {
   "cell_type": "code",
   "execution_count": null,
   "metadata": {
    "execution": {
     "iopub.execute_input": "2024-11-20T05:45:39.133524Z",
     "iopub.status.busy": "2024-11-20T05:45:39.132958Z",
     "iopub.status.idle": "2024-11-20T05:45:39.139693Z",
     "shell.execute_reply": "2024-11-20T05:45:39.138206Z",
     "shell.execute_reply.started": "2024-11-20T05:45:39.133470Z"
    },
    "trusted": true
   },
   "outputs": [],
   "source": [
    "feature_names = x_train.columns"
   ]
  },
  {
   "cell_type": "code",
   "execution_count": null,
   "metadata": {
    "execution": {
     "iopub.execute_input": "2024-11-20T05:46:21.523600Z",
     "iopub.status.busy": "2024-11-20T05:46:21.523207Z",
     "iopub.status.idle": "2024-11-20T05:46:21.797074Z",
     "shell.execute_reply": "2024-11-20T05:46:21.795734Z",
     "shell.execute_reply.started": "2024-11-20T05:46:21.523563Z"
    },
    "trusted": true
   },
   "outputs": [],
   "source": [
    "plt.barh(feature_names, feature_importances)\n",
    "plt.xlabel(\"Feature Importance\")\n",
    "plt.title(\"Feature Importance for Random Forest\")\n",
    "plt.show()"
   ]
  },
  {
   "cell_type": "code",
   "execution_count": null,
   "metadata": {
    "trusted": true
   },
   "outputs": [],
   "source": []
  }
 ],
 "metadata": {
  "kaggle": {
   "accelerator": "none",
   "dataSources": [
    {
     "datasetId": 5898748,
     "sourceId": 9656117,
     "sourceType": "datasetVersion"
    }
   ],
   "dockerImageVersionId": 30775,
   "isGpuEnabled": false,
   "isInternetEnabled": false,
   "language": "python",
   "sourceType": "notebook"
  },
  "kernelspec": {
   "display_name": "Python 3",
   "language": "python",
   "name": "python3"
  },
  "language_info": {
   "codemirror_mode": {
    "name": "ipython",
    "version": 3
   },
   "file_extension": ".py",
   "mimetype": "text/x-python",
   "name": "python",
   "nbconvert_exporter": "python",
   "pygments_lexer": "ipython3",
   "version": "3.11.9"
  }
 },
 "nbformat": 4,
 "nbformat_minor": 4
}
