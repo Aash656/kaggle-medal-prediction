{
 "cells": [
  {
   "cell_type": "markdown",
   "id": "0c55a8d9",
   "metadata": {
    "papermill": {
     "duration": 0.0129,
     "end_time": "2024-11-25T05:08:22.913132",
     "exception": false,
     "start_time": "2024-11-25T05:08:22.900232",
     "status": "completed"
    },
    "tags": []
   },
   "source": [
    "# Importing the required stuff"
   ]
  },
  {
   "cell_type": "code",
   "execution_count": 1,
   "id": "817e1eac",
   "metadata": {
    "_cell_guid": "b1076dfc-b9ad-4769-8c92-a6c4dae69d19",
    "_uuid": "8f2839f25d086af736a60e9eeb907d3b93b6e0e5",
    "execution": {
     "iopub.execute_input": "2024-11-25T05:08:22.939609Z",
     "iopub.status.busy": "2024-11-25T05:08:22.939163Z",
     "iopub.status.idle": "2024-11-25T05:08:25.628628Z",
     "shell.execute_reply": "2024-11-25T05:08:25.627555Z"
    },
    "papermill": {
     "duration": 2.705591,
     "end_time": "2024-11-25T05:08:25.631710",
     "exception": false,
     "start_time": "2024-11-25T05:08:22.926119",
     "status": "completed"
    },
    "tags": []
   },
   "outputs": [],
   "source": [
    "# we import all the basic required libraries\n",
    "\n",
    "import pandas as pd\n",
    "\n",
    "import seaborn as sns\n",
    "import matplotlib.pyplot as plt \n",
    "\n",
    "import numpy as np\n",
    "\n",
    "import datetime as dt"
   ]
  },
  {
   "cell_type": "code",
   "execution_count": 2,
   "id": "f1b57b88",
   "metadata": {
    "execution": {
     "iopub.execute_input": "2024-11-25T05:08:25.657164Z",
     "iopub.status.busy": "2024-11-25T05:08:25.656629Z",
     "iopub.status.idle": "2024-11-25T05:08:25.662091Z",
     "shell.execute_reply": "2024-11-25T05:08:25.660944Z"
    },
    "papermill": {
     "duration": 0.020637,
     "end_time": "2024-11-25T05:08:25.664263",
     "exception": false,
     "start_time": "2024-11-25T05:08:25.643626",
     "status": "completed"
    },
    "tags": []
   },
   "outputs": [],
   "source": [
    "# To remove warnings\n",
    "import warnings\n",
    "warnings.filterwarnings('ignore')"
   ]
  },
  {
   "cell_type": "code",
   "execution_count": 3,
   "id": "fa0b18a3",
   "metadata": {
    "execution": {
     "iopub.execute_input": "2024-11-25T05:08:25.689701Z",
     "iopub.status.busy": "2024-11-25T05:08:25.689324Z",
     "iopub.status.idle": "2024-11-25T05:08:26.468784Z",
     "shell.execute_reply": "2024-11-25T05:08:26.467596Z"
    },
    "papermill": {
     "duration": 0.794756,
     "end_time": "2024-11-25T05:08:26.471332",
     "exception": false,
     "start_time": "2024-11-25T05:08:25.676576",
     "status": "completed"
    },
    "tags": []
   },
   "outputs": [],
   "source": [
    "# Encoders\n",
    "from sklearn.preprocessing import OneHotEncoder     # Nominal Categorical variables\n",
    "from sklearn.preprocessing import StandardScaler     # Numerical variables\n",
    "\n",
    "from sklearn.model_selection import train_test_split\n",
    "\n",
    "from imblearn.over_sampling import RandomOverSampler"
   ]
  },
  {
   "cell_type": "code",
   "execution_count": 4,
   "id": "8c87968b",
   "metadata": {
    "execution": {
     "iopub.execute_input": "2024-11-25T05:08:26.497342Z",
     "iopub.status.busy": "2024-11-25T05:08:26.496792Z",
     "iopub.status.idle": "2024-11-25T05:08:26.501361Z",
     "shell.execute_reply": "2024-11-25T05:08:26.500420Z"
    },
    "papermill": {
     "duration": 0.019763,
     "end_time": "2024-11-25T05:08:26.503501",
     "exception": false,
     "start_time": "2024-11-25T05:08:26.483738",
     "status": "completed"
    },
    "tags": []
   },
   "outputs": [],
   "source": [
    "from sklearn.ensemble import RandomForestClassifier"
   ]
  },
  {
   "cell_type": "code",
   "execution_count": 5,
   "id": "27e82fb7",
   "metadata": {
    "execution": {
     "iopub.execute_input": "2024-11-25T05:08:26.528630Z",
     "iopub.status.busy": "2024-11-25T05:08:26.528245Z",
     "iopub.status.idle": "2024-11-25T05:08:26.533328Z",
     "shell.execute_reply": "2024-11-25T05:08:26.532213Z"
    },
    "papermill": {
     "duration": 0.020089,
     "end_time": "2024-11-25T05:08:26.535294",
     "exception": false,
     "start_time": "2024-11-25T05:08:26.515205",
     "status": "completed"
    },
    "tags": []
   },
   "outputs": [],
   "source": [
    "# importing multiple metrics so we can use calculate whatever is required later on.\n",
    "\n",
    "from sklearn.metrics import (\n",
    "    accuracy_score,\n",
    "    precision_score,\n",
    "    recall_score,\n",
    "    f1_score,\n",
    "    confusion_matrix,\n",
    "    roc_curve,\n",
    "    roc_auc_score,\n",
    "    log_loss\n",
    ")"
   ]
  },
  {
   "cell_type": "code",
   "execution_count": 6,
   "id": "a6e569f5",
   "metadata": {
    "execution": {
     "iopub.execute_input": "2024-11-25T05:08:26.560103Z",
     "iopub.status.busy": "2024-11-25T05:08:26.559700Z",
     "iopub.status.idle": "2024-11-25T05:08:26.671956Z",
     "shell.execute_reply": "2024-11-25T05:08:26.670916Z"
    },
    "papermill": {
     "duration": 0.127811,
     "end_time": "2024-11-25T05:08:26.674683",
     "exception": false,
     "start_time": "2024-11-25T05:08:26.546872",
     "status": "completed"
    },
    "tags": []
   },
   "outputs": [],
   "source": [
    "# reading the dataset\n",
    "df = pd.read_csv('/kaggle/input/kaggle-dataset/kaggle-preprocessed.csv')"
   ]
  },
  {
   "cell_type": "markdown",
   "id": "3b10b90b",
   "metadata": {
    "papermill": {
     "duration": 0.011268,
     "end_time": "2024-11-25T05:08:26.698002",
     "exception": false,
     "start_time": "2024-11-25T05:08:26.686734",
     "status": "completed"
    },
    "tags": []
   },
   "source": [
    "# Understanding our dataset"
   ]
  },
  {
   "cell_type": "code",
   "execution_count": 7,
   "id": "0e518677",
   "metadata": {
    "execution": {
     "iopub.execute_input": "2024-11-25T05:08:26.723244Z",
     "iopub.status.busy": "2024-11-25T05:08:26.722816Z",
     "iopub.status.idle": "2024-11-25T05:08:26.750577Z",
     "shell.execute_reply": "2024-11-25T05:08:26.749505Z"
    },
    "papermill": {
     "duration": 0.043222,
     "end_time": "2024-11-25T05:08:26.752836",
     "exception": false,
     "start_time": "2024-11-25T05:08:26.709614",
     "status": "completed"
    },
    "tags": []
   },
   "outputs": [
    {
     "data": {
      "text/html": [
       "<div>\n",
       "<style scoped>\n",
       "    .dataframe tbody tr th:only-of-type {\n",
       "        vertical-align: middle;\n",
       "    }\n",
       "\n",
       "    .dataframe tbody tr th {\n",
       "        vertical-align: top;\n",
       "    }\n",
       "\n",
       "    .dataframe thead th {\n",
       "        text-align: right;\n",
       "    }\n",
       "</style>\n",
       "<table border=\"1\" class=\"dataframe\">\n",
       "  <thead>\n",
       "    <tr style=\"text-align: right;\">\n",
       "      <th></th>\n",
       "      <th>Unnamed: 0</th>\n",
       "      <th>Dataset_name</th>\n",
       "      <th>Author_name</th>\n",
       "      <th>Author_id</th>\n",
       "      <th>No_of_files</th>\n",
       "      <th>size</th>\n",
       "      <th>Type_of_file</th>\n",
       "      <th>Upvotes</th>\n",
       "      <th>Medals</th>\n",
       "      <th>Usability</th>\n",
       "      <th>Date</th>\n",
       "      <th>Day</th>\n",
       "      <th>Time</th>\n",
       "      <th>Dataset_link</th>\n",
       "    </tr>\n",
       "  </thead>\n",
       "  <tbody>\n",
       "    <tr>\n",
       "      <th>0</th>\n",
       "      <td>0</td>\n",
       "      <td>Hotel Reservations Dataset</td>\n",
       "      <td>Ahsan Raza</td>\n",
       "      <td>https://www.kaggle.com/ahsan81</td>\n",
       "      <td>1</td>\n",
       "      <td>491 kB</td>\n",
       "      <td>CSV</td>\n",
       "      <td>315</td>\n",
       "      <td>Silver</td>\n",
       "      <td>10.0</td>\n",
       "      <td>1/04/2023</td>\n",
       "      <td>Wed</td>\n",
       "      <td>18:20:31</td>\n",
       "      <td>https://www.kaggle.com/datasets/ahsan81/hotel-...</td>\n",
       "    </tr>\n",
       "    <tr>\n",
       "      <th>1</th>\n",
       "      <td>2</td>\n",
       "      <td>Most Subscribed 1000 Youtube Channels</td>\n",
       "      <td>Mrityunjay Pathak</td>\n",
       "      <td>https://www.kaggle.com/themrityunjaypathak</td>\n",
       "      <td>1</td>\n",
       "      <td>29 kB</td>\n",
       "      <td>CSV</td>\n",
       "      <td>76</td>\n",
       "      <td>Bronze</td>\n",
       "      <td>10.0</td>\n",
       "      <td>1/21/2023</td>\n",
       "      <td>Sat</td>\n",
       "      <td>20:12:05</td>\n",
       "      <td>https://www.kaggle.com/datasets/themrityunjayp...</td>\n",
       "    </tr>\n",
       "    <tr>\n",
       "      <th>2</th>\n",
       "      <td>3</td>\n",
       "      <td>Olympics 124 years Dataset(till 2020)</td>\n",
       "      <td>Nitish Sharma01</td>\n",
       "      <td>https://www.kaggle.com/nitishsharma01</td>\n",
       "      <td>3</td>\n",
       "      <td>5 MB</td>\n",
       "      <td>CSV</td>\n",
       "      <td>30</td>\n",
       "      <td>Bronze</td>\n",
       "      <td>10.0</td>\n",
       "      <td>2/01/2023</td>\n",
       "      <td>Wed</td>\n",
       "      <td>14:30:49</td>\n",
       "      <td>https://www.kaggle.com/datasets/nitishsharma01...</td>\n",
       "    </tr>\n",
       "    <tr>\n",
       "      <th>3</th>\n",
       "      <td>4</td>\n",
       "      <td>Medical Student Mental Health</td>\n",
       "      <td>The Devastator</td>\n",
       "      <td>https://www.kaggle.com/thedevastator</td>\n",
       "      <td>2</td>\n",
       "      <td>19 kB</td>\n",
       "      <td>CSV</td>\n",
       "      <td>37</td>\n",
       "      <td>Bronze</td>\n",
       "      <td>10.0</td>\n",
       "      <td>1/25/2023</td>\n",
       "      <td>Wed</td>\n",
       "      <td>06:30:14</td>\n",
       "      <td>https://www.kaggle.com/datasets/thedevastator/...</td>\n",
       "    </tr>\n",
       "    <tr>\n",
       "      <th>4</th>\n",
       "      <td>5</td>\n",
       "      <td>Latest Netflix TV shows and movies</td>\n",
       "      <td>Senapati Rajesh</td>\n",
       "      <td>https://www.kaggle.com/senapatirajesh</td>\n",
       "      <td>1</td>\n",
       "      <td>1 MB</td>\n",
       "      <td>CSV</td>\n",
       "      <td>94</td>\n",
       "      <td>Bronze</td>\n",
       "      <td>9.4</td>\n",
       "      <td>1/14/2023</td>\n",
       "      <td>Sat</td>\n",
       "      <td>22:33:12</td>\n",
       "      <td>https://www.kaggle.com/datasets/senapatirajesh...</td>\n",
       "    </tr>\n",
       "  </tbody>\n",
       "</table>\n",
       "</div>"
      ],
      "text/plain": [
       "   Unnamed: 0                           Dataset_name        Author_name  \\\n",
       "0           0             Hotel Reservations Dataset         Ahsan Raza   \n",
       "1           2  Most Subscribed 1000 Youtube Channels  Mrityunjay Pathak   \n",
       "2           3  Olympics 124 years Dataset(till 2020)    Nitish Sharma01   \n",
       "3           4          Medical Student Mental Health     The Devastator   \n",
       "4           5     Latest Netflix TV shows and movies    Senapati Rajesh   \n",
       "\n",
       "                                    Author_id  No_of_files    size  \\\n",
       "0              https://www.kaggle.com/ahsan81            1  491 kB   \n",
       "1  https://www.kaggle.com/themrityunjaypathak            1   29 kB   \n",
       "2       https://www.kaggle.com/nitishsharma01            3    5 MB   \n",
       "3        https://www.kaggle.com/thedevastator            2   19 kB   \n",
       "4       https://www.kaggle.com/senapatirajesh            1    1 MB   \n",
       "\n",
       "  Type_of_file  Upvotes  Medals  Usability       Date  Day      Time  \\\n",
       "0          CSV      315  Silver       10.0  1/04/2023  Wed  18:20:31   \n",
       "1          CSV       76  Bronze       10.0  1/21/2023  Sat  20:12:05   \n",
       "2          CSV       30  Bronze       10.0  2/01/2023  Wed  14:30:49   \n",
       "3          CSV       37  Bronze       10.0  1/25/2023  Wed  06:30:14   \n",
       "4          CSV       94  Bronze        9.4  1/14/2023  Sat  22:33:12   \n",
       "\n",
       "                                        Dataset_link  \n",
       "0  https://www.kaggle.com/datasets/ahsan81/hotel-...  \n",
       "1  https://www.kaggle.com/datasets/themrityunjayp...  \n",
       "2  https://www.kaggle.com/datasets/nitishsharma01...  \n",
       "3  https://www.kaggle.com/datasets/thedevastator/...  \n",
       "4  https://www.kaggle.com/datasets/senapatirajesh...  "
      ]
     },
     "execution_count": 7,
     "metadata": {},
     "output_type": "execute_result"
    }
   ],
   "source": [
    "# Checking the first five rows\n",
    "df.head()"
   ]
  },
  {
   "cell_type": "code",
   "execution_count": 8,
   "id": "a7db1f3b",
   "metadata": {
    "execution": {
     "iopub.execute_input": "2024-11-25T05:08:26.778256Z",
     "iopub.status.busy": "2024-11-25T05:08:26.777842Z",
     "iopub.status.idle": "2024-11-25T05:08:26.792928Z",
     "shell.execute_reply": "2024-11-25T05:08:26.791859Z"
    },
    "papermill": {
     "duration": 0.030243,
     "end_time": "2024-11-25T05:08:26.795094",
     "exception": false,
     "start_time": "2024-11-25T05:08:26.764851",
     "status": "completed"
    },
    "tags": []
   },
   "outputs": [
    {
     "data": {
      "text/html": [
       "<div>\n",
       "<style scoped>\n",
       "    .dataframe tbody tr th:only-of-type {\n",
       "        vertical-align: middle;\n",
       "    }\n",
       "\n",
       "    .dataframe tbody tr th {\n",
       "        vertical-align: top;\n",
       "    }\n",
       "\n",
       "    .dataframe thead th {\n",
       "        text-align: right;\n",
       "    }\n",
       "</style>\n",
       "<table border=\"1\" class=\"dataframe\">\n",
       "  <thead>\n",
       "    <tr style=\"text-align: right;\">\n",
       "      <th></th>\n",
       "      <th>Unnamed: 0</th>\n",
       "      <th>Dataset_name</th>\n",
       "      <th>Author_name</th>\n",
       "      <th>Author_id</th>\n",
       "      <th>No_of_files</th>\n",
       "      <th>size</th>\n",
       "      <th>Type_of_file</th>\n",
       "      <th>Upvotes</th>\n",
       "      <th>Medals</th>\n",
       "      <th>Usability</th>\n",
       "      <th>Date</th>\n",
       "      <th>Day</th>\n",
       "      <th>Time</th>\n",
       "      <th>Dataset_link</th>\n",
       "    </tr>\n",
       "  </thead>\n",
       "  <tbody>\n",
       "    <tr>\n",
       "      <th>9153</th>\n",
       "      <td>9966</td>\n",
       "      <td>bankdata</td>\n",
       "      <td>Jochein</td>\n",
       "      <td>https://www.kaggle.com/jochein</td>\n",
       "      <td>7</td>\n",
       "      <td>1 MB</td>\n",
       "      <td>CSV, other</td>\n",
       "      <td>1</td>\n",
       "      <td>No Medal</td>\n",
       "      <td>1.8</td>\n",
       "      <td>12/31/2022</td>\n",
       "      <td>Sat</td>\n",
       "      <td>14:38:17</td>\n",
       "      <td>https://www.kaggle.com/datasets/jochein/bankdata</td>\n",
       "    </tr>\n",
       "    <tr>\n",
       "      <th>9154</th>\n",
       "      <td>9967</td>\n",
       "      <td>Simpsons Episodes &amp; Ratings (1989-)</td>\n",
       "      <td>Jonathan Bown</td>\n",
       "      <td>https://www.kaggle.com/jonbown</td>\n",
       "      <td>2</td>\n",
       "      <td>163 kB</td>\n",
       "      <td>CSV</td>\n",
       "      <td>42</td>\n",
       "      <td>Silver</td>\n",
       "      <td>10.0</td>\n",
       "      <td>12/27/2022</td>\n",
       "      <td>Tue</td>\n",
       "      <td>23:38:50</td>\n",
       "      <td>https://www.kaggle.com/datasets/jonbown/simpso...</td>\n",
       "    </tr>\n",
       "    <tr>\n",
       "      <th>9155</th>\n",
       "      <td>9968</td>\n",
       "      <td>Video Game Dataset</td>\n",
       "      <td>Trung Hoang</td>\n",
       "      <td>https://www.kaggle.com/jummyegg</td>\n",
       "      <td>1</td>\n",
       "      <td>22 MB</td>\n",
       "      <td>CSV</td>\n",
       "      <td>38</td>\n",
       "      <td>No Medal</td>\n",
       "      <td>8.2</td>\n",
       "      <td>12/23/2020</td>\n",
       "      <td>Wed</td>\n",
       "      <td>10:24:53</td>\n",
       "      <td>https://www.kaggle.com/datasets/jummyegg/rawg-...</td>\n",
       "    </tr>\n",
       "    <tr>\n",
       "      <th>9156</th>\n",
       "      <td>9969</td>\n",
       "      <td>deberta-v3-small</td>\n",
       "      <td>miwojc</td>\n",
       "      <td>https://www.kaggle.com/miwojc</td>\n",
       "      <td>6</td>\n",
       "      <td>600 MB</td>\n",
       "      <td>other, JSON</td>\n",
       "      <td>3</td>\n",
       "      <td>No Medal</td>\n",
       "      <td>1.9</td>\n",
       "      <td>4/21/2022</td>\n",
       "      <td>Thu</td>\n",
       "      <td>11:43:36</td>\n",
       "      <td>https://www.kaggle.com/datasets/miwojc/deberta...</td>\n",
       "    </tr>\n",
       "    <tr>\n",
       "      <th>9157</th>\n",
       "      <td>9970</td>\n",
       "      <td>Israeli Premier League - Team stats 2016-20</td>\n",
       "      <td>Ido Yoely</td>\n",
       "      <td>https://www.kaggle.com/idoyo92</td>\n",
       "      <td>1</td>\n",
       "      <td>145 kB</td>\n",
       "      <td>CSV</td>\n",
       "      <td>4</td>\n",
       "      <td>No Medal</td>\n",
       "      <td>9.7</td>\n",
       "      <td>4/05/2020</td>\n",
       "      <td>Sun</td>\n",
       "      <td>14:23:01</td>\n",
       "      <td>https://www.kaggle.com/datasets/idoyo92/israel...</td>\n",
       "    </tr>\n",
       "  </tbody>\n",
       "</table>\n",
       "</div>"
      ],
      "text/plain": [
       "      Unnamed: 0                                 Dataset_name    Author_name  \\\n",
       "9153        9966                                     bankdata        Jochein   \n",
       "9154        9967          Simpsons Episodes & Ratings (1989-)  Jonathan Bown   \n",
       "9155        9968                           Video Game Dataset    Trung Hoang   \n",
       "9156        9969                             deberta-v3-small         miwojc   \n",
       "9157        9970  Israeli Premier League - Team stats 2016-20      Ido Yoely   \n",
       "\n",
       "                            Author_id  No_of_files    size Type_of_file  \\\n",
       "9153   https://www.kaggle.com/jochein            7    1 MB   CSV, other   \n",
       "9154   https://www.kaggle.com/jonbown            2  163 kB          CSV   \n",
       "9155  https://www.kaggle.com/jummyegg            1   22 MB          CSV   \n",
       "9156    https://www.kaggle.com/miwojc            6  600 MB  other, JSON   \n",
       "9157   https://www.kaggle.com/idoyo92            1  145 kB          CSV   \n",
       "\n",
       "      Upvotes    Medals  Usability        Date  Day      Time  \\\n",
       "9153        1  No Medal        1.8  12/31/2022  Sat  14:38:17   \n",
       "9154       42    Silver       10.0  12/27/2022  Tue  23:38:50   \n",
       "9155       38  No Medal        8.2  12/23/2020  Wed  10:24:53   \n",
       "9156        3  No Medal        1.9   4/21/2022  Thu  11:43:36   \n",
       "9157        4  No Medal        9.7   4/05/2020  Sun  14:23:01   \n",
       "\n",
       "                                           Dataset_link  \n",
       "9153   https://www.kaggle.com/datasets/jochein/bankdata  \n",
       "9154  https://www.kaggle.com/datasets/jonbown/simpso...  \n",
       "9155  https://www.kaggle.com/datasets/jummyegg/rawg-...  \n",
       "9156  https://www.kaggle.com/datasets/miwojc/deberta...  \n",
       "9157  https://www.kaggle.com/datasets/idoyo92/israel...  "
      ]
     },
     "execution_count": 8,
     "metadata": {},
     "output_type": "execute_result"
    }
   ],
   "source": [
    "# Checking the last five rows\n",
    "df.tail()"
   ]
  },
  {
   "cell_type": "code",
   "execution_count": 9,
   "id": "b7644763",
   "metadata": {
    "execution": {
     "iopub.execute_input": "2024-11-25T05:08:26.821530Z",
     "iopub.status.busy": "2024-11-25T05:08:26.821114Z",
     "iopub.status.idle": "2024-11-25T05:08:26.839878Z",
     "shell.execute_reply": "2024-11-25T05:08:26.838777Z"
    },
    "papermill": {
     "duration": 0.034455,
     "end_time": "2024-11-25T05:08:26.842081",
     "exception": false,
     "start_time": "2024-11-25T05:08:26.807626",
     "status": "completed"
    },
    "tags": []
   },
   "outputs": [
    {
     "data": {
      "text/plain": [
       "<bound method DataFrame.info of       Unnamed: 0                                 Dataset_name  \\\n",
       "0              0                   Hotel Reservations Dataset   \n",
       "1              2        Most Subscribed 1000 Youtube Channels   \n",
       "2              3        Olympics 124 years Dataset(till 2020)   \n",
       "3              4                Medical Student Mental Health   \n",
       "4              5           Latest Netflix TV shows and movies   \n",
       "...          ...                                          ...   \n",
       "9153        9966                                     bankdata   \n",
       "9154        9967          Simpsons Episodes & Ratings (1989-)   \n",
       "9155        9968                           Video Game Dataset   \n",
       "9156        9969                             deberta-v3-small   \n",
       "9157        9970  Israeli Premier League - Team stats 2016-20   \n",
       "\n",
       "            Author_name                                   Author_id  \\\n",
       "0            Ahsan Raza              https://www.kaggle.com/ahsan81   \n",
       "1     Mrityunjay Pathak  https://www.kaggle.com/themrityunjaypathak   \n",
       "2       Nitish Sharma01       https://www.kaggle.com/nitishsharma01   \n",
       "3        The Devastator        https://www.kaggle.com/thedevastator   \n",
       "4       Senapati Rajesh       https://www.kaggle.com/senapatirajesh   \n",
       "...                 ...                                         ...   \n",
       "9153            Jochein              https://www.kaggle.com/jochein   \n",
       "9154      Jonathan Bown              https://www.kaggle.com/jonbown   \n",
       "9155        Trung Hoang             https://www.kaggle.com/jummyegg   \n",
       "9156             miwojc               https://www.kaggle.com/miwojc   \n",
       "9157          Ido Yoely              https://www.kaggle.com/idoyo92   \n",
       "\n",
       "      No_of_files    size Type_of_file  Upvotes    Medals  Usability  \\\n",
       "0               1  491 kB          CSV      315    Silver       10.0   \n",
       "1               1   29 kB          CSV       76    Bronze       10.0   \n",
       "2               3    5 MB          CSV       30    Bronze       10.0   \n",
       "3               2   19 kB          CSV       37    Bronze       10.0   \n",
       "4               1    1 MB          CSV       94    Bronze        9.4   \n",
       "...           ...     ...          ...      ...       ...        ...   \n",
       "9153            7    1 MB   CSV, other        1  No Medal        1.8   \n",
       "9154            2  163 kB          CSV       42    Silver       10.0   \n",
       "9155            1   22 MB          CSV       38  No Medal        8.2   \n",
       "9156            6  600 MB  other, JSON        3  No Medal        1.9   \n",
       "9157            1  145 kB          CSV        4  No Medal        9.7   \n",
       "\n",
       "            Date  Day      Time  \\\n",
       "0      1/04/2023  Wed  18:20:31   \n",
       "1      1/21/2023  Sat  20:12:05   \n",
       "2      2/01/2023  Wed  14:30:49   \n",
       "3      1/25/2023  Wed  06:30:14   \n",
       "4      1/14/2023  Sat  22:33:12   \n",
       "...          ...  ...       ...   \n",
       "9153  12/31/2022  Sat  14:38:17   \n",
       "9154  12/27/2022  Tue  23:38:50   \n",
       "9155  12/23/2020  Wed  10:24:53   \n",
       "9156   4/21/2022  Thu  11:43:36   \n",
       "9157   4/05/2020  Sun  14:23:01   \n",
       "\n",
       "                                           Dataset_link  \n",
       "0     https://www.kaggle.com/datasets/ahsan81/hotel-...  \n",
       "1     https://www.kaggle.com/datasets/themrityunjayp...  \n",
       "2     https://www.kaggle.com/datasets/nitishsharma01...  \n",
       "3     https://www.kaggle.com/datasets/thedevastator/...  \n",
       "4     https://www.kaggle.com/datasets/senapatirajesh...  \n",
       "...                                                 ...  \n",
       "9153   https://www.kaggle.com/datasets/jochein/bankdata  \n",
       "9154  https://www.kaggle.com/datasets/jonbown/simpso...  \n",
       "9155  https://www.kaggle.com/datasets/jummyegg/rawg-...  \n",
       "9156  https://www.kaggle.com/datasets/miwojc/deberta...  \n",
       "9157  https://www.kaggle.com/datasets/idoyo92/israel...  \n",
       "\n",
       "[9158 rows x 14 columns]>"
      ]
     },
     "execution_count": 9,
     "metadata": {},
     "output_type": "execute_result"
    }
   ],
   "source": [
    "# checking the data summary\n",
    "df.info"
   ]
  },
  {
   "cell_type": "code",
   "execution_count": 10,
   "id": "8f60d7ea",
   "metadata": {
    "execution": {
     "iopub.execute_input": "2024-11-25T05:08:26.868986Z",
     "iopub.status.busy": "2024-11-25T05:08:26.868594Z",
     "iopub.status.idle": "2024-11-25T05:08:26.875101Z",
     "shell.execute_reply": "2024-11-25T05:08:26.874075Z"
    },
    "papermill": {
     "duration": 0.022824,
     "end_time": "2024-11-25T05:08:26.877292",
     "exception": false,
     "start_time": "2024-11-25T05:08:26.854468",
     "status": "completed"
    },
    "tags": []
   },
   "outputs": [
    {
     "data": {
      "text/plain": [
       "(9158, 14)"
      ]
     },
     "execution_count": 10,
     "metadata": {},
     "output_type": "execute_result"
    }
   ],
   "source": [
    "df.shape"
   ]
  },
  {
   "cell_type": "markdown",
   "id": "3740c8db",
   "metadata": {
    "papermill": {
     "duration": 0.012099,
     "end_time": "2024-11-25T05:08:26.901772",
     "exception": false,
     "start_time": "2024-11-25T05:08:26.889673",
     "status": "completed"
    },
    "tags": []
   },
   "source": [
    "# Cleaning the data"
   ]
  },
  {
   "cell_type": "code",
   "execution_count": 11,
   "id": "134cebe5",
   "metadata": {
    "execution": {
     "iopub.execute_input": "2024-11-25T05:08:26.927977Z",
     "iopub.status.busy": "2024-11-25T05:08:26.927592Z",
     "iopub.status.idle": "2024-11-25T05:08:26.942715Z",
     "shell.execute_reply": "2024-11-25T05:08:26.941728Z"
    },
    "papermill": {
     "duration": 0.030711,
     "end_time": "2024-11-25T05:08:26.944808",
     "exception": false,
     "start_time": "2024-11-25T05:08:26.914097",
     "status": "completed"
    },
    "tags": []
   },
   "outputs": [
    {
     "data": {
      "text/plain": [
       "Unnamed: 0      0\n",
       "Dataset_name    0\n",
       "Author_name     0\n",
       "Author_id       0\n",
       "No_of_files     0\n",
       "size            0\n",
       "Type_of_file    2\n",
       "Upvotes         0\n",
       "Medals          0\n",
       "Usability       0\n",
       "Date            0\n",
       "Day             0\n",
       "Time            0\n",
       "Dataset_link    0\n",
       "dtype: int64"
      ]
     },
     "execution_count": 11,
     "metadata": {},
     "output_type": "execute_result"
    }
   ],
   "source": [
    "# Checking for null values\n",
    "df.isnull().sum()"
   ]
  },
  {
   "cell_type": "code",
   "execution_count": 12,
   "id": "3803c0a6",
   "metadata": {
    "execution": {
     "iopub.execute_input": "2024-11-25T05:08:26.971387Z",
     "iopub.status.busy": "2024-11-25T05:08:26.970981Z",
     "iopub.status.idle": "2024-11-25T05:08:26.983248Z",
     "shell.execute_reply": "2024-11-25T05:08:26.982368Z"
    },
    "papermill": {
     "duration": 0.028065,
     "end_time": "2024-11-25T05:08:26.985376",
     "exception": false,
     "start_time": "2024-11-25T05:08:26.957311",
     "status": "completed"
    },
    "tags": []
   },
   "outputs": [],
   "source": [
    "# dropping null values\n",
    "df =df.dropna()"
   ]
  },
  {
   "cell_type": "code",
   "execution_count": 13,
   "id": "2f0bdf8f",
   "metadata": {
    "execution": {
     "iopub.execute_input": "2024-11-25T05:08:27.015070Z",
     "iopub.status.busy": "2024-11-25T05:08:27.014106Z",
     "iopub.status.idle": "2024-11-25T05:08:27.026757Z",
     "shell.execute_reply": "2024-11-25T05:08:27.025841Z"
    },
    "papermill": {
     "duration": 0.029753,
     "end_time": "2024-11-25T05:08:27.028848",
     "exception": false,
     "start_time": "2024-11-25T05:08:26.999095",
     "status": "completed"
    },
    "tags": []
   },
   "outputs": [
    {
     "data": {
      "text/plain": [
       "Unnamed: 0      0\n",
       "Dataset_name    0\n",
       "Author_name     0\n",
       "Author_id       0\n",
       "No_of_files     0\n",
       "size            0\n",
       "Type_of_file    0\n",
       "Upvotes         0\n",
       "Medals          0\n",
       "Usability       0\n",
       "Date            0\n",
       "Day             0\n",
       "Time            0\n",
       "Dataset_link    0\n",
       "dtype: int64"
      ]
     },
     "execution_count": 13,
     "metadata": {},
     "output_type": "execute_result"
    }
   ],
   "source": [
    "# Checking for null values\n",
    "df.isnull().sum()"
   ]
  },
  {
   "cell_type": "markdown",
   "id": "bb3ee4be",
   "metadata": {
    "papermill": {
     "duration": 0.012247,
     "end_time": "2024-11-25T05:08:27.054100",
     "exception": false,
     "start_time": "2024-11-25T05:08:27.041853",
     "status": "completed"
    },
    "tags": []
   },
   "source": [
    "**Basic cleaning has been done.  \n",
    "There are no missing or duplicated values, we can proceed to the next step.**"
   ]
  },
  {
   "cell_type": "code",
   "execution_count": 14,
   "id": "f0171af4",
   "metadata": {
    "execution": {
     "iopub.execute_input": "2024-11-25T05:08:27.082497Z",
     "iopub.status.busy": "2024-11-25T05:08:27.082085Z",
     "iopub.status.idle": "2024-11-25T05:08:27.106193Z",
     "shell.execute_reply": "2024-11-25T05:08:27.105077Z"
    },
    "papermill": {
     "duration": 0.041807,
     "end_time": "2024-11-25T05:08:27.108427",
     "exception": false,
     "start_time": "2024-11-25T05:08:27.066620",
     "status": "completed"
    },
    "tags": []
   },
   "outputs": [
    {
     "data": {
      "text/plain": [
       "0"
      ]
     },
     "execution_count": 14,
     "metadata": {},
     "output_type": "execute_result"
    }
   ],
   "source": [
    "# Checking for duplicated rows\n",
    "df.duplicated().sum()"
   ]
  },
  {
   "cell_type": "markdown",
   "id": "0ffb1f4b",
   "metadata": {
    "papermill": {
     "duration": 0.012843,
     "end_time": "2024-11-25T05:08:27.134675",
     "exception": false,
     "start_time": "2024-11-25T05:08:27.121832",
     "status": "completed"
    },
    "tags": []
   },
   "source": [
    "**There are no duplicated values.**"
   ]
  },
  {
   "cell_type": "code",
   "execution_count": 15,
   "id": "20fe84a9",
   "metadata": {
    "execution": {
     "iopub.execute_input": "2024-11-25T05:08:27.162222Z",
     "iopub.status.busy": "2024-11-25T05:08:27.161847Z",
     "iopub.status.idle": "2024-11-25T05:08:27.169653Z",
     "shell.execute_reply": "2024-11-25T05:08:27.168431Z"
    },
    "papermill": {
     "duration": 0.023885,
     "end_time": "2024-11-25T05:08:27.171724",
     "exception": false,
     "start_time": "2024-11-25T05:08:27.147839",
     "status": "completed"
    },
    "tags": []
   },
   "outputs": [
    {
     "data": {
      "text/plain": [
       "Index(['unnamed: 0', 'dataset_name', 'author_name', 'author_id', 'no_of_files',\n",
       "       'size', 'type_of_file', 'upvotes', 'medals', 'usability', 'date', 'day',\n",
       "       'time', 'dataset_link'],\n",
       "      dtype='object')"
      ]
     },
     "execution_count": 15,
     "metadata": {},
     "output_type": "execute_result"
    }
   ],
   "source": [
    "### Cleaning column names\n",
    "df.columns = df.columns.str.lower()\n",
    "df.columns"
   ]
  },
  {
   "cell_type": "markdown",
   "id": "7596d42e",
   "metadata": {
    "papermill": {
     "duration": 0.01226,
     "end_time": "2024-11-25T05:08:27.196651",
     "exception": false,
     "start_time": "2024-11-25T05:08:27.184391",
     "status": "completed"
    },
    "tags": []
   },
   "source": [
    "# Feature Engineering"
   ]
  },
  {
   "cell_type": "markdown",
   "id": "0a722e16",
   "metadata": {
    "papermill": {
     "duration": 0.012323,
     "end_time": "2024-11-25T05:08:27.221773",
     "exception": false,
     "start_time": "2024-11-25T05:08:27.209450",
     "status": "completed"
    },
    "tags": []
   },
   "source": [
    "### Creating Date feature"
   ]
  },
  {
   "cell_type": "code",
   "execution_count": 16,
   "id": "9e9115fd",
   "metadata": {
    "execution": {
     "iopub.execute_input": "2024-11-25T05:08:27.248645Z",
     "iopub.status.busy": "2024-11-25T05:08:27.248286Z",
     "iopub.status.idle": "2024-11-25T05:08:27.267603Z",
     "shell.execute_reply": "2024-11-25T05:08:27.266723Z"
    },
    "papermill": {
     "duration": 0.035436,
     "end_time": "2024-11-25T05:08:27.269790",
     "exception": false,
     "start_time": "2024-11-25T05:08:27.234354",
     "status": "completed"
    },
    "tags": []
   },
   "outputs": [],
   "source": [
    "# Converting date to datetime format\n",
    "df['date'] = pd.to_datetime(df['date'])\n",
    "\n",
    "# Getting year and month columns\n",
    "df['year'] = df['date'].dt.year\n",
    "df['month'] = df['date'].dt.month"
   ]
  },
  {
   "cell_type": "markdown",
   "id": "0aa6cc31",
   "metadata": {
    "papermill": {
     "duration": 0.012583,
     "end_time": "2024-11-25T05:08:27.295255",
     "exception": false,
     "start_time": "2024-11-25T05:08:27.282672",
     "status": "completed"
    },
    "tags": []
   },
   "source": [
    "### Extracting 'hour' from 'time' column."
   ]
  },
  {
   "cell_type": "code",
   "execution_count": 17,
   "id": "7f9596f7",
   "metadata": {
    "execution": {
     "iopub.execute_input": "2024-11-25T05:08:27.322359Z",
     "iopub.status.busy": "2024-11-25T05:08:27.321947Z",
     "iopub.status.idle": "2024-11-25T05:08:27.587874Z",
     "shell.execute_reply": "2024-11-25T05:08:27.586532Z"
    },
    "papermill": {
     "duration": 0.282424,
     "end_time": "2024-11-25T05:08:27.590351",
     "exception": false,
     "start_time": "2024-11-25T05:08:27.307927",
     "status": "completed"
    },
    "tags": []
   },
   "outputs": [],
   "source": [
    "# converting time into hours\n",
    "df['time'] = pd.to_datetime(df['time'])\n",
    "df['time'] = df['time'].dt.hour"
   ]
  },
  {
   "cell_type": "code",
   "execution_count": 18,
   "id": "776609ed",
   "metadata": {
    "execution": {
     "iopub.execute_input": "2024-11-25T05:08:27.617923Z",
     "iopub.status.busy": "2024-11-25T05:08:27.617519Z",
     "iopub.status.idle": "2024-11-25T05:08:27.628312Z",
     "shell.execute_reply": "2024-11-25T05:08:27.627413Z"
    },
    "papermill": {
     "duration": 0.02733,
     "end_time": "2024-11-25T05:08:27.630588",
     "exception": false,
     "start_time": "2024-11-25T05:08:27.603258",
     "status": "completed"
    },
    "tags": []
   },
   "outputs": [],
   "source": [
    "# Dropping the date column\n",
    "df.drop(columns='date', inplace=True)"
   ]
  },
  {
   "cell_type": "markdown",
   "id": "88476632",
   "metadata": {
    "papermill": {
     "duration": 0.01256,
     "end_time": "2024-11-25T05:08:27.657596",
     "exception": false,
     "start_time": "2024-11-25T05:08:27.645036",
     "status": "completed"
    },
    "tags": []
   },
   "source": [
    "### Standardizing the units of the 'size' column"
   ]
  },
  {
   "cell_type": "code",
   "execution_count": 19,
   "id": "5169f690",
   "metadata": {
    "execution": {
     "iopub.execute_input": "2024-11-25T05:08:27.684947Z",
     "iopub.status.busy": "2024-11-25T05:08:27.684586Z",
     "iopub.status.idle": "2024-11-25T05:08:27.695287Z",
     "shell.execute_reply": "2024-11-25T05:08:27.694269Z"
    },
    "papermill": {
     "duration": 0.026779,
     "end_time": "2024-11-25T05:08:27.697388",
     "exception": false,
     "start_time": "2024-11-25T05:08:27.670609",
     "status": "completed"
    },
    "tags": []
   },
   "outputs": [
    {
     "data": {
      "text/plain": [
       "array(['kB', 'MB', ' B', 'GB'], dtype=object)"
      ]
     },
     "execution_count": 19,
     "metadata": {},
     "output_type": "execute_result"
    }
   ],
   "source": [
    "# Checking all the storage format\n",
    "df['size'].str[-2:].unique()"
   ]
  },
  {
   "cell_type": "code",
   "execution_count": 20,
   "id": "496d5a29",
   "metadata": {
    "execution": {
     "iopub.execute_input": "2024-11-25T05:08:27.725454Z",
     "iopub.status.busy": "2024-11-25T05:08:27.725050Z",
     "iopub.status.idle": "2024-11-25T05:08:27.731694Z",
     "shell.execute_reply": "2024-11-25T05:08:27.730593Z"
    },
    "papermill": {
     "duration": 0.023567,
     "end_time": "2024-11-25T05:08:27.733932",
     "exception": false,
     "start_time": "2024-11-25T05:08:27.710365",
     "status": "completed"
    },
    "tags": []
   },
   "outputs": [],
   "source": [
    "# Define the conversion factors for different units\n",
    "units = {'KB': 1e-3, 'MB': 1, 'GB': 1e3, 'B': 1e-6, 'K': 1e-3}  # 'K' added for cases like '491 K'\n",
    "\n",
    "# Function to clean and convert file sizes to MB\n",
    "def convert_size(size_str):\n",
    "    \n",
    "    # Clean the string: remove spaces, standardize case\n",
    "    size_str = size_str.strip().replace(' ', '').upper() \n",
    "    \n",
    "    for unit in units:\n",
    "        if unit in size_str:\n",
    "            try:\n",
    "                return float(size_str.replace(unit, '')) * units[unit]\n",
    "            except ValueError:\n",
    "                return 0  # In case of any unexpected formatting errors\n",
    "    return 0  # Default to 0 if no valid unit is found"
   ]
  },
  {
   "cell_type": "code",
   "execution_count": 21,
   "id": "580a0094",
   "metadata": {
    "execution": {
     "iopub.execute_input": "2024-11-25T05:08:27.761309Z",
     "iopub.status.busy": "2024-11-25T05:08:27.760901Z",
     "iopub.status.idle": "2024-11-25T05:08:27.778819Z",
     "shell.execute_reply": "2024-11-25T05:08:27.777856Z"
    },
    "papermill": {
     "duration": 0.033986,
     "end_time": "2024-11-25T05:08:27.780838",
     "exception": false,
     "start_time": "2024-11-25T05:08:27.746852",
     "status": "completed"
    },
    "tags": []
   },
   "outputs": [
    {
     "name": "stdout",
     "output_type": "stream",
     "text": [
      "Processing complete. The final dataset has been saved as 'processed_large_dataset.csv'.\n"
     ]
    }
   ],
   "source": [
    "# Read the large CSV file in chunks and process each chunk\n",
    "chunk_size = 10000\n",
    "df_list = []  # List to store processed chunks\n",
    "\n",
    "# Loop to read data in chunks\n",
    "for start in range(0, len(df), chunk_size):\n",
    "    end = min(start + chunk_size, len(df))  # Calculate the end of the chunk\n",
    "    chunk = df.iloc[start:end]  # Slice the DataFrame to create a chunk\n",
    "    \n",
    "    # processing in chunks \n",
    "    chunk['size_in_mb'] = chunk['size'].apply(convert_size)\n",
    "    \n",
    "    # appending the processed chunk\n",
    "    df_list.append(chunk)\n",
    "\n",
    "# Concatenate all processed chunks into a final DataFrame\n",
    "df = pd.concat(df_list)\n",
    "\n",
    "print(\"Processing complete. The final dataset has been saved as 'processed_large_dataset.csv'.\")"
   ]
  },
  {
   "cell_type": "code",
   "execution_count": 22,
   "id": "2bd55162",
   "metadata": {
    "execution": {
     "iopub.execute_input": "2024-11-25T05:08:27.809387Z",
     "iopub.status.busy": "2024-11-25T05:08:27.808588Z",
     "iopub.status.idle": "2024-11-25T05:08:27.815677Z",
     "shell.execute_reply": "2024-11-25T05:08:27.814605Z"
    },
    "papermill": {
     "duration": 0.023753,
     "end_time": "2024-11-25T05:08:27.817989",
     "exception": false,
     "start_time": "2024-11-25T05:08:27.794236",
     "status": "completed"
    },
    "tags": []
   },
   "outputs": [],
   "source": [
    "# Dropping size column\n",
    "df.drop(columns='size', inplace=True)"
   ]
  },
  {
   "cell_type": "markdown",
   "id": "554d7e97",
   "metadata": {
    "papermill": {
     "duration": 0.012657,
     "end_time": "2024-11-25T05:08:27.844167",
     "exception": false,
     "start_time": "2024-11-25T05:08:27.831510",
     "status": "completed"
    },
    "tags": []
   },
   "source": [
    "# EDA - Exploratory Data Analysis"
   ]
  },
  {
   "cell_type": "code",
   "execution_count": 23,
   "id": "c497e476",
   "metadata": {
    "execution": {
     "iopub.execute_input": "2024-11-25T05:08:27.871737Z",
     "iopub.status.busy": "2024-11-25T05:08:27.871342Z",
     "iopub.status.idle": "2024-11-25T05:08:27.876374Z",
     "shell.execute_reply": "2024-11-25T05:08:27.875328Z"
    },
    "papermill": {
     "duration": 0.021167,
     "end_time": "2024-11-25T05:08:27.878340",
     "exception": false,
     "start_time": "2024-11-25T05:08:27.857173",
     "status": "completed"
    },
    "tags": []
   },
   "outputs": [],
   "source": [
    "palette='rocket'"
   ]
  },
  {
   "cell_type": "code",
   "execution_count": 24,
   "id": "770ab0cb",
   "metadata": {
    "execution": {
     "iopub.execute_input": "2024-11-25T05:08:27.906306Z",
     "iopub.status.busy": "2024-11-25T05:08:27.905873Z",
     "iopub.status.idle": "2024-11-25T05:08:27.913699Z",
     "shell.execute_reply": "2024-11-25T05:08:27.912522Z"
    },
    "papermill": {
     "duration": 0.024616,
     "end_time": "2024-11-25T05:08:27.915741",
     "exception": false,
     "start_time": "2024-11-25T05:08:27.891125",
     "status": "completed"
    },
    "tags": []
   },
   "outputs": [
    {
     "name": "stdout",
     "output_type": "stream",
     "text": [
      "[2016 2017 2018 2019 2020 2021 2022 2023]\n"
     ]
    }
   ],
   "source": [
    "# Checking the years of the datasets.\n",
    "list = df['year'].unique()\n",
    "print(np.sort(list))"
   ]
  },
  {
   "cell_type": "markdown",
   "id": "8e119f66",
   "metadata": {
    "papermill": {
     "duration": 0.012542,
     "end_time": "2024-11-25T05:08:27.941368",
     "exception": false,
     "start_time": "2024-11-25T05:08:27.928826",
     "status": "completed"
    },
    "tags": []
   },
   "source": [
    "* **> our dataset contains datasets uploaded between the years 2016 and 2023**"
   ]
  },
  {
   "cell_type": "code",
   "execution_count": 25,
   "id": "ec28dd4a",
   "metadata": {
    "execution": {
     "iopub.execute_input": "2024-11-25T05:08:27.968885Z",
     "iopub.status.busy": "2024-11-25T05:08:27.968507Z",
     "iopub.status.idle": "2024-11-25T05:08:28.319076Z",
     "shell.execute_reply": "2024-11-25T05:08:28.317680Z"
    },
    "papermill": {
     "duration": 0.367158,
     "end_time": "2024-11-25T05:08:28.321450",
     "exception": false,
     "start_time": "2024-11-25T05:08:27.954292",
     "status": "completed"
    },
    "tags": []
   },
   "outputs": [
    {
     "data": {
      "text/plain": [
       "Text(0.5, 1.0, 'Number of medals')"
      ]
     },
     "execution_count": 25,
     "metadata": {},
     "output_type": "execute_result"
    },
    {
     "data": {
      "image/png": "[encoded data removed]",
      "text/plain": [
       "<Figure size 640x480 with 1 Axes>"
      ]
     },
     "metadata": {},
     "output_type": "display_data"
    }
   ],
   "source": [
    "sns.countplot(x=df['medals'], palette=palette)\n",
    "plt.title('Number of medals')"
   ]
  },
  {
   "cell_type": "markdown",
   "id": "99245a07",
   "metadata": {
    "papermill": {
     "duration": 0.013443,
     "end_time": "2024-11-25T05:08:28.348589",
     "exception": false,
     "start_time": "2024-11-25T05:08:28.335146",
     "status": "completed"
    },
    "tags": []
   },
   "source": [
    "* **> Most datasets have Bronze medal, followed by No medal.**"
   ]
  },
  {
   "cell_type": "code",
   "execution_count": 26,
   "id": "747fc035",
   "metadata": {
    "execution": {
     "iopub.execute_input": "2024-11-25T05:08:28.377069Z",
     "iopub.status.busy": "2024-11-25T05:08:28.376658Z",
     "iopub.status.idle": "2024-11-25T05:08:28.804689Z",
     "shell.execute_reply": "2024-11-25T05:08:28.803413Z"
    },
    "papermill": {
     "duration": 0.445256,
     "end_time": "2024-11-25T05:08:28.807360",
     "exception": false,
     "start_time": "2024-11-25T05:08:28.362104",
     "status": "completed"
    },
    "tags": []
   },
   "outputs": [
    {
     "data": {
      "text/plain": [
       "Text(0.5, 1.0, 'Medal Distribution acc. to days')"
      ]
     },
     "execution_count": 26,
     "metadata": {},
     "output_type": "execute_result"
    },
    {
     "data": {
      "image/png": "[encoded data removed]",
      "text/plain": [
       "<Figure size 640x480 with 1 Axes>"
      ]
     },
     "metadata": {},
     "output_type": "display_data"
    }
   ],
   "source": [
    "sns.countplot(x=df['medals'], hue=df['day'], palette=palette)\n",
    "plt.title('Medal Distribution acc. to days')"
   ]
  },
  {
   "cell_type": "markdown",
   "id": "c17eb080",
   "metadata": {
    "papermill": {
     "duration": 0.013906,
     "end_time": "2024-11-25T05:08:28.835936",
     "exception": false,
     "start_time": "2024-11-25T05:08:28.822030",
     "status": "completed"
    },
    "tags": []
   },
   "source": [
    "* **> We can see that most of the Gold medal datasets were uploaded on Thursdays.**\n",
    "* **> And most Silvers on Monday.**"
   ]
  },
  {
   "cell_type": "code",
   "execution_count": 27,
   "id": "7b1120f3",
   "metadata": {
    "execution": {
     "iopub.execute_input": "2024-11-25T05:08:28.866684Z",
     "iopub.status.busy": "2024-11-25T05:08:28.866306Z",
     "iopub.status.idle": "2024-11-25T05:08:29.179234Z",
     "shell.execute_reply": "2024-11-25T05:08:29.178206Z"
    },
    "papermill": {
     "duration": 0.33066,
     "end_time": "2024-11-25T05:08:29.181368",
     "exception": false,
     "start_time": "2024-11-25T05:08:28.850708",
     "status": "completed"
    },
    "tags": []
   },
   "outputs": [
    {
     "data": {
      "text/plain": [
       "<Axes: xlabel='usability', ylabel='Count'>"
      ]
     },
     "execution_count": 27,
     "metadata": {},
     "output_type": "execute_result"
    },
    {
     "data": {
      "image/png": "[encoded data removed]",
      "text/plain": [
       "<Figure size 640x480 with 1 Axes>"
      ]
     },
     "metadata": {},
     "output_type": "display_data"
    }
   ],
   "source": [
    "sns.histplot(data=df['usability'])"
   ]
  },
  {
   "cell_type": "markdown",
   "id": "c99c6ee4",
   "metadata": {
    "papermill": {
     "duration": 0.013996,
     "end_time": "2024-11-25T05:08:29.209705",
     "exception": false,
     "start_time": "2024-11-25T05:08:29.195709",
     "status": "completed"
    },
    "tags": []
   },
   "source": [
    "* **> The usability scores are negatively skewed.**"
   ]
  },
  {
   "cell_type": "code",
   "execution_count": 28,
   "id": "f7bedcff",
   "metadata": {
    "execution": {
     "iopub.execute_input": "2024-11-25T05:08:29.239800Z",
     "iopub.status.busy": "2024-11-25T05:08:29.239401Z",
     "iopub.status.idle": "2024-11-25T05:08:29.584144Z",
     "shell.execute_reply": "2024-11-25T05:08:29.583073Z"
    },
    "papermill": {
     "duration": 0.362572,
     "end_time": "2024-11-25T05:08:29.586422",
     "exception": false,
     "start_time": "2024-11-25T05:08:29.223850",
     "status": "completed"
    },
    "tags": []
   },
   "outputs": [
    {
     "data": {
      "text/plain": [
       "Text(0.5, 1.0, 'Medals acc to size in mb')"
      ]
     },
     "execution_count": 28,
     "metadata": {},
     "output_type": "execute_result"
    },
    {
     "data": {
      "image/png": "[encoded data removed]",
      "text/plain": [
       "<Figure size 640x480 with 1 Axes>"
      ]
     },
     "metadata": {},
     "output_type": "display_data"
    }
   ],
   "source": [
    "sns.barplot(x=df['medals'], y=df['size_in_mb'], palette=palette)\n",
    "plt.title('Medals acc to size in mb')"
   ]
  },
  {
   "cell_type": "markdown",
   "id": "6e10e831",
   "metadata": {
    "papermill": {
     "duration": 0.014401,
     "end_time": "2024-11-25T05:08:29.615817",
     "exception": false,
     "start_time": "2024-11-25T05:08:29.601416",
     "status": "completed"
    },
    "tags": []
   },
   "source": [
    "* **> We can see that on an average, files around 1000 mb got the most number of silver medals.**"
   ]
  },
  {
   "cell_type": "markdown",
   "id": "4080aff5",
   "metadata": {
    "papermill": {
     "duration": 0.014954,
     "end_time": "2024-11-25T05:08:29.645454",
     "exception": false,
     "start_time": "2024-11-25T05:08:29.630500",
     "status": "completed"
    },
    "tags": []
   },
   "source": [
    "# Feature Selection"
   ]
  },
  {
   "cell_type": "code",
   "execution_count": 29,
   "id": "fc329060",
   "metadata": {
    "execution": {
     "iopub.execute_input": "2024-11-25T05:08:29.676736Z",
     "iopub.status.busy": "2024-11-25T05:08:29.676320Z",
     "iopub.status.idle": "2024-11-25T05:08:29.683512Z",
     "shell.execute_reply": "2024-11-25T05:08:29.682708Z"
    },
    "papermill": {
     "duration": 0.02534,
     "end_time": "2024-11-25T05:08:29.685581",
     "exception": false,
     "start_time": "2024-11-25T05:08:29.660241",
     "status": "completed"
    },
    "tags": []
   },
   "outputs": [],
   "source": [
    "# Droppping unecessary columns\n",
    "df.drop(columns=['unnamed: 0', 'dataset_name', 'author_name', 'author_id', 'dataset_link'], inplace=True)"
   ]
  },
  {
   "cell_type": "code",
   "execution_count": 30,
   "id": "17cf7b34",
   "metadata": {
    "execution": {
     "iopub.execute_input": "2024-11-25T05:08:29.717358Z",
     "iopub.status.busy": "2024-11-25T05:08:29.716909Z",
     "iopub.status.idle": "2024-11-25T05:08:29.723622Z",
     "shell.execute_reply": "2024-11-25T05:08:29.722669Z"
    },
    "papermill": {
     "duration": 0.025159,
     "end_time": "2024-11-25T05:08:29.725757",
     "exception": false,
     "start_time": "2024-11-25T05:08:29.700598",
     "status": "completed"
    },
    "tags": []
   },
   "outputs": [
    {
     "data": {
      "text/plain": [
       "Index(['no_of_files', 'type_of_file', 'upvotes', 'medals', 'usability', 'day',\n",
       "       'time', 'year', 'month', 'size_in_mb'],\n",
       "      dtype='object')"
      ]
     },
     "execution_count": 30,
     "metadata": {},
     "output_type": "execute_result"
    }
   ],
   "source": [
    "# getting column names\n",
    "df.columns"
   ]
  },
  {
   "cell_type": "markdown",
   "id": "6121d4d5",
   "metadata": {
    "papermill": {
     "duration": 0.014902,
     "end_time": "2024-11-25T05:08:29.755779",
     "exception": false,
     "start_time": "2024-11-25T05:08:29.740877",
     "status": "completed"
    },
    "tags": []
   },
   "source": [
    "# Pre-Processing"
   ]
  },
  {
   "cell_type": "markdown",
   "id": "e76048c1",
   "metadata": {
    "papermill": {
     "duration": 0.014955,
     "end_time": "2024-11-25T05:08:29.785888",
     "exception": false,
     "start_time": "2024-11-25T05:08:29.770933",
     "status": "completed"
    },
    "tags": []
   },
   "source": [
    "## Encoding & Scaling the features"
   ]
  },
  {
   "cell_type": "code",
   "execution_count": 31,
   "id": "45893003",
   "metadata": {
    "execution": {
     "iopub.execute_input": "2024-11-25T05:08:29.817805Z",
     "iopub.status.busy": "2024-11-25T05:08:29.817398Z",
     "iopub.status.idle": "2024-11-25T05:08:29.824245Z",
     "shell.execute_reply": "2024-11-25T05:08:29.823261Z"
    },
    "papermill": {
     "duration": 0.025525,
     "end_time": "2024-11-25T05:08:29.826427",
     "exception": false,
     "start_time": "2024-11-25T05:08:29.800902",
     "status": "completed"
    },
    "tags": []
   },
   "outputs": [],
   "source": [
    "# Getting categorical columns\n",
    "categorical_features = df.select_dtypes(include='object').columns\n",
    "numerical_features = [item for item in df.columns if item not in categorical_features]"
   ]
  },
  {
   "cell_type": "code",
   "execution_count": 32,
   "id": "c3c99219",
   "metadata": {
    "execution": {
     "iopub.execute_input": "2024-11-25T05:08:29.858086Z",
     "iopub.status.busy": "2024-11-25T05:08:29.857731Z",
     "iopub.status.idle": "2024-11-25T05:08:29.865204Z",
     "shell.execute_reply": "2024-11-25T05:08:29.864103Z"
    },
    "papermill": {
     "duration": 0.025602,
     "end_time": "2024-11-25T05:08:29.867169",
     "exception": false,
     "start_time": "2024-11-25T05:08:29.841567",
     "status": "completed"
    },
    "tags": []
   },
   "outputs": [],
   "source": [
    "# Encoding Nominal Features\n",
    "# Nominal features - have an order of ranking\n",
    "\n",
    "# Manual Mapping\n",
    "df['medals'] = df['medals'].map({'No Medal': 0, 'Bronze': 1, 'Silver': 2, 'Gold': 3})\n",
    "\n",
    "# We don't use Label ENcoder as it maps the data in alphabetical order.\n",
    "# We will not have complete control.\n",
    "# But manual mapping gives me control to assign highest value to Gold and the least value to No Medal"
   ]
  },
  {
   "cell_type": "code",
   "execution_count": 33,
   "id": "77a162d9",
   "metadata": {
    "execution": {
     "iopub.execute_input": "2024-11-25T05:08:29.898584Z",
     "iopub.status.busy": "2024-11-25T05:08:29.898172Z",
     "iopub.status.idle": "2024-11-25T05:08:29.904747Z",
     "shell.execute_reply": "2024-11-25T05:08:29.903709Z"
    },
    "papermill": {
     "duration": 0.024671,
     "end_time": "2024-11-25T05:08:29.906832",
     "exception": false,
     "start_time": "2024-11-25T05:08:29.882161",
     "status": "completed"
    },
    "tags": []
   },
   "outputs": [],
   "source": [
    "# Dropping medals cos we already encoded it.\n",
    "categorical_features = df[categorical_features].drop(columns='medals').columns"
   ]
  },
  {
   "cell_type": "code",
   "execution_count": 34,
   "id": "1fc56beb",
   "metadata": {
    "execution": {
     "iopub.execute_input": "2024-11-25T05:08:29.939211Z",
     "iopub.status.busy": "2024-11-25T05:08:29.938171Z",
     "iopub.status.idle": "2024-11-25T05:08:29.957632Z",
     "shell.execute_reply": "2024-11-25T05:08:29.956650Z"
    },
    "papermill": {
     "duration": 0.03804,
     "end_time": "2024-11-25T05:08:29.960029",
     "exception": false,
     "start_time": "2024-11-25T05:08:29.921989",
     "status": "completed"
    },
    "tags": []
   },
   "outputs": [],
   "source": [
    "# Encoding the catogorical nominal features\n",
    "encoder = OneHotEncoder(sparse=False)\n",
    "\n",
    "for feature in categorical_features:\n",
    "    df[feature] = encoder.fit_transform(df[[feature]])\n",
    "\n",
    "    \n",
    "# 'sparse=1': saves memory by only storing non-zero values"
   ]
  },
  {
   "cell_type": "code",
   "execution_count": 35,
   "id": "93e92bb7",
   "metadata": {
    "execution": {
     "iopub.execute_input": "2024-11-25T05:08:29.991807Z",
     "iopub.status.busy": "2024-11-25T05:08:29.991430Z",
     "iopub.status.idle": "2024-11-25T05:08:30.019473Z",
     "shell.execute_reply": "2024-11-25T05:08:30.018358Z"
    },
    "papermill": {
     "duration": 0.047019,
     "end_time": "2024-11-25T05:08:30.022086",
     "exception": false,
     "start_time": "2024-11-25T05:08:29.975067",
     "status": "completed"
    },
    "tags": []
   },
   "outputs": [],
   "source": [
    "# Scaling numeric features\n",
    "encoder = StandardScaler()\n",
    "\n",
    "for feature in numerical_features:\n",
    "    df[feature] = encoder.fit_transform(df[[feature]])"
   ]
  },
  {
   "cell_type": "markdown",
   "id": "5820b90c",
   "metadata": {
    "execution": {
     "iopub.execute_input": "2024-10-15T08:32:10.849669Z",
     "iopub.status.busy": "2024-10-15T08:32:10.849188Z",
     "iopub.status.idle": "2024-10-15T08:32:10.854899Z",
     "shell.execute_reply": "2024-10-15T08:32:10.853659Z",
     "shell.execute_reply.started": "2024-10-15T08:32:10.849623Z"
    },
    "papermill": {
     "duration": 0.014994,
     "end_time": "2024-11-25T05:08:30.052685",
     "exception": false,
     "start_time": "2024-11-25T05:08:30.037691",
     "status": "completed"
    },
    "tags": []
   },
   "source": [
    "## Train-Test Split"
   ]
  },
  {
   "cell_type": "code",
   "execution_count": 36,
   "id": "49830303",
   "metadata": {
    "execution": {
     "iopub.execute_input": "2024-11-25T05:08:30.086547Z",
     "iopub.status.busy": "2024-11-25T05:08:30.086100Z",
     "iopub.status.idle": "2024-11-25T05:08:30.093088Z",
     "shell.execute_reply": "2024-11-25T05:08:30.092254Z"
    },
    "papermill": {
     "duration": 0.026805,
     "end_time": "2024-11-25T05:08:30.095198",
     "exception": false,
     "start_time": "2024-11-25T05:08:30.068393",
     "status": "completed"
    },
    "tags": []
   },
   "outputs": [],
   "source": [
    "# Extracting the target variable as X and the remaining features as Y\n",
    "\n",
    "Y = df['medals']\n",
    "X = df.drop(columns='medals')"
   ]
  },
  {
   "cell_type": "code",
   "execution_count": 37,
   "id": "c9440fbb",
   "metadata": {
    "execution": {
     "iopub.execute_input": "2024-11-25T05:08:30.126912Z",
     "iopub.status.busy": "2024-11-25T05:08:30.126520Z",
     "iopub.status.idle": "2024-11-25T05:08:30.136603Z",
     "shell.execute_reply": "2024-11-25T05:08:30.135722Z"
    },
    "papermill": {
     "duration": 0.028848,
     "end_time": "2024-11-25T05:08:30.139016",
     "exception": false,
     "start_time": "2024-11-25T05:08:30.110168",
     "status": "completed"
    },
    "tags": []
   },
   "outputs": [],
   "source": [
    "# we create a train test split with as 80% and 20%.\n",
    "# we used random state ro enable replicability of the results\n",
    "\n",
    "x_train, x_test, y_train, y_test = train_test_split(X, Y, test_size=0.2, random_state=66)"
   ]
  },
  {
   "cell_type": "markdown",
   "id": "2612416e",
   "metadata": {
    "papermill": {
     "duration": 0.014513,
     "end_time": "2024-11-25T05:08:30.168821",
     "exception": false,
     "start_time": "2024-11-25T05:08:30.154308",
     "status": "completed"
    },
    "tags": []
   },
   "source": [
    "## Oversampling"
   ]
  },
  {
   "cell_type": "markdown",
   "id": "a54fa092",
   "metadata": {
    "papermill": {
     "duration": 0.014756,
     "end_time": "2024-11-25T05:08:30.198690",
     "exception": false,
     "start_time": "2024-11-25T05:08:30.183934",
     "status": "completed"
    },
    "tags": []
   },
   "source": [
    "**we use oversampling in order to make sure that all the medal categories are equally represented in the model in order to try and minimize bias.**"
   ]
  },
  {
   "cell_type": "code",
   "execution_count": 38,
   "id": "ccfcfa43",
   "metadata": {
    "execution": {
     "iopub.execute_input": "2024-11-25T05:08:30.229967Z",
     "iopub.status.busy": "2024-11-25T05:08:30.229605Z",
     "iopub.status.idle": "2024-11-25T05:08:30.244201Z",
     "shell.execute_reply": "2024-11-25T05:08:30.243190Z"
    },
    "papermill": {
     "duration": 0.033054,
     "end_time": "2024-11-25T05:08:30.246632",
     "exception": false,
     "start_time": "2024-11-25T05:08:30.213578",
     "status": "completed"
    },
    "tags": []
   },
   "outputs": [],
   "source": [
    "# Initialize RandomOverSampler\n",
    "ros = RandomOverSampler(random_state=60)\n",
    "\n",
    "# Fit and resample\n",
    "X_resampled, y_resampled = ros.fit_resample(x_train, y_train)"
   ]
  },
  {
   "cell_type": "code",
   "execution_count": 39,
   "id": "942ab757",
   "metadata": {
    "execution": {
     "iopub.execute_input": "2024-11-25T05:08:30.279321Z",
     "iopub.status.busy": "2024-11-25T05:08:30.278899Z",
     "iopub.status.idle": "2024-11-25T05:08:30.284583Z",
     "shell.execute_reply": "2024-11-25T05:08:30.283722Z"
    },
    "papermill": {
     "duration": 0.024689,
     "end_time": "2024-11-25T05:08:30.286799",
     "exception": false,
     "start_time": "2024-11-25T05:08:30.262110",
     "status": "completed"
    },
    "tags": []
   },
   "outputs": [],
   "source": [
    "# CHecking the number of samples taken\n",
    "values, count = np.unique(y_resampled, return_counts=True)"
   ]
  },
  {
   "cell_type": "code",
   "execution_count": 40,
   "id": "f50bd643",
   "metadata": {
    "execution": {
     "iopub.execute_input": "2024-11-25T05:08:30.319349Z",
     "iopub.status.busy": "2024-11-25T05:08:30.318949Z",
     "iopub.status.idle": "2024-11-25T05:08:30.324766Z",
     "shell.execute_reply": "2024-11-25T05:08:30.323480Z"
    },
    "papermill": {
     "duration": 0.024896,
     "end_time": "2024-11-25T05:08:30.327219",
     "exception": false,
     "start_time": "2024-11-25T05:08:30.302323",
     "status": "completed"
    },
    "tags": []
   },
   "outputs": [
    {
     "name": "stdout",
     "output_type": "stream",
     "text": [
      "Unique values of medals: [0 1 2 3]\n",
      "No. of samples taken from each: [0 1 2 3]\n"
     ]
    }
   ],
   "source": [
    "print(f'Unique values of medals: {values}')\n",
    "print(f'No. of samples taken from each: {values}')"
   ]
  },
  {
   "cell_type": "markdown",
   "id": "8df219ff",
   "metadata": {
    "execution": {
     "iopub.execute_input": "2024-10-15T08:42:01.464137Z",
     "iopub.status.busy": "2024-10-15T08:42:01.463285Z",
     "iopub.status.idle": "2024-10-15T08:42:01.468970Z",
     "shell.execute_reply": "2024-10-15T08:42:01.467491Z",
     "shell.execute_reply.started": "2024-10-15T08:42:01.464089Z"
    },
    "papermill": {
     "duration": 0.014964,
     "end_time": "2024-11-25T05:08:30.357301",
     "exception": false,
     "start_time": "2024-11-25T05:08:30.342337",
     "status": "completed"
    },
    "tags": []
   },
   "source": [
    "# Modelling"
   ]
  },
  {
   "cell_type": "markdown",
   "id": "68d36586",
   "metadata": {
    "papermill": {
     "duration": 0.014853,
     "end_time": "2024-11-25T05:08:30.387269",
     "exception": false,
     "start_time": "2024-11-25T05:08:30.372416",
     "status": "completed"
    },
    "tags": []
   },
   "source": [
    "## Initialising Model"
   ]
  },
  {
   "cell_type": "code",
   "execution_count": 41,
   "id": "517e54da",
   "metadata": {
    "execution": {
     "iopub.execute_input": "2024-11-25T05:08:30.419162Z",
     "iopub.status.busy": "2024-11-25T05:08:30.418812Z",
     "iopub.status.idle": "2024-11-25T05:08:30.423724Z",
     "shell.execute_reply": "2024-11-25T05:08:30.422627Z"
    },
    "papermill": {
     "duration": 0.023481,
     "end_time": "2024-11-25T05:08:30.425792",
     "exception": false,
     "start_time": "2024-11-25T05:08:30.402311",
     "status": "completed"
    },
    "tags": []
   },
   "outputs": [],
   "source": [
    "# initializing the model using random state in order to get consistent results.\n",
    "\n",
    "model = RandomForestClassifier(random_state=60)"
   ]
  },
  {
   "cell_type": "markdown",
   "id": "cb2283ff",
   "metadata": {
    "papermill": {
     "duration": 0.014994,
     "end_time": "2024-11-25T05:08:30.455710",
     "exception": false,
     "start_time": "2024-11-25T05:08:30.440716",
     "status": "completed"
    },
    "tags": []
   },
   "source": [
    "## Training the model"
   ]
  },
  {
   "cell_type": "code",
   "execution_count": 42,
   "id": "10b654e8",
   "metadata": {
    "execution": {
     "iopub.execute_input": "2024-11-25T05:08:30.487776Z",
     "iopub.status.busy": "2024-11-25T05:08:30.487391Z",
     "iopub.status.idle": "2024-11-25T05:08:31.993544Z",
     "shell.execute_reply": "2024-11-25T05:08:31.992442Z"
    },
    "papermill": {
     "duration": 1.524744,
     "end_time": "2024-11-25T05:08:31.995631",
     "exception": false,
     "start_time": "2024-11-25T05:08:30.470887",
     "status": "completed"
    },
    "tags": []
   },
   "outputs": [
    {
     "data": {
      "text/html": [
       "<style>#sk-container-id-1 {color: black;background-color: white;}#sk-container-id-1 pre{padding: 0;}#sk-container-id-1 div.sk-toggleable {background-color: white;}#sk-container-id-1 label.sk-toggleable__label {cursor: pointer;display: block;width: 100%;margin-bottom: 0;padding: 0.3em;box-sizing: border-box;text-align: center;}#sk-container-id-1 label.sk-toggleable__label-arrow:before {content: \"▸\";float: left;margin-right: 0.25em;color: #696969;}#sk-container-id-1 label.sk-toggleable__label-arrow:hover:before {color: black;}#sk-container-id-1 div.sk-estimator:hover label.sk-toggleable__label-arrow:before {color: black;}#sk-container-id-1 div.sk-toggleable__content {max-height: 0;max-width: 0;overflow: hidden;text-align: left;background-color: #f0f8ff;}#sk-container-id-1 div.sk-toggleable__content pre {margin: 0.2em;color: black;border-radius: 0.25em;background-color: #f0f8ff;}#sk-container-id-1 input.sk-toggleable__control:checked~div.sk-toggleable__content {max-height: 200px;max-width: 100%;overflow: auto;}#sk-container-id-1 input.sk-toggleable__control:checked~label.sk-toggleable__label-arrow:before {content: \"▾\";}#sk-container-id-1 div.sk-estimator input.sk-toggleable__control:checked~label.sk-toggleable__label {background-color: #d4ebff;}#sk-container-id-1 div.sk-label input.sk-toggleable__control:checked~label.sk-toggleable__label {background-color: #d4ebff;}#sk-container-id-1 input.sk-hidden--visually {border: 0;clip: rect(1px 1px 1px 1px);clip: rect(1px, 1px, 1px, 1px);height: 1px;margin: -1px;overflow: hidden;padding: 0;position: absolute;width: 1px;}#sk-container-id-1 div.sk-estimator {font-family: monospace;background-color: #f0f8ff;border: 1px dotted black;border-radius: 0.25em;box-sizing: border-box;margin-bottom: 0.5em;}#sk-container-id-1 div.sk-estimator:hover {background-color: #d4ebff;}#sk-container-id-1 div.sk-parallel-item::after {content: \"\";width: 100%;border-bottom: 1px solid gray;flex-grow: 1;}#sk-container-id-1 div.sk-label:hover label.sk-toggleable__label {background-color: #d4ebff;}#sk-container-id-1 div.sk-serial::before {content: \"\";position: absolute;border-left: 1px solid gray;box-sizing: border-box;top: 0;bottom: 0;left: 50%;z-index: 0;}#sk-container-id-1 div.sk-serial {display: flex;flex-direction: column;align-items: center;background-color: white;padding-right: 0.2em;padding-left: 0.2em;position: relative;}#sk-container-id-1 div.sk-item {position: relative;z-index: 1;}#sk-container-id-1 div.sk-parallel {display: flex;align-items: stretch;justify-content: center;background-color: white;position: relative;}#sk-container-id-1 div.sk-item::before, #sk-container-id-1 div.sk-parallel-item::before {content: \"\";position: absolute;border-left: 1px solid gray;box-sizing: border-box;top: 0;bottom: 0;left: 50%;z-index: -1;}#sk-container-id-1 div.sk-parallel-item {display: flex;flex-direction: column;z-index: 1;position: relative;background-color: white;}#sk-container-id-1 div.sk-parallel-item:first-child::after {align-self: flex-end;width: 50%;}#sk-container-id-1 div.sk-parallel-item:last-child::after {align-self: flex-start;width: 50%;}#sk-container-id-1 div.sk-parallel-item:only-child::after {width: 0;}#sk-container-id-1 div.sk-dashed-wrapped {border: 1px dashed gray;margin: 0 0.4em 0.5em 0.4em;box-sizing: border-box;padding-bottom: 0.4em;background-color: white;}#sk-container-id-1 div.sk-label label {font-family: monospace;font-weight: bold;display: inline-block;line-height: 1.2em;}#sk-container-id-1 div.sk-label-container {text-align: center;}#sk-container-id-1 div.sk-container {/* jupyter's `normalize.less` sets `[hidden] { display: none; }` but bootstrap.min.css set `[hidden] { display: none !important; }` so we also need the `!important` here to be able to override the default hidden behavior on the sphinx rendered scikit-learn.org. See: https://github.com/scikit-learn/scikit-learn/issues/21755 */display: inline-block !important;position: relative;}#sk-container-id-1 div.sk-text-repr-fallback {display: none;}</style><div id=\"sk-container-id-1\" class=\"sk-top-container\"><div class=\"sk-text-repr-fallback\"><pre>RandomForestClassifier(random_state=60)</pre><b>In a Jupyter environment, please rerun this cell to show the HTML representation or trust the notebook. <br />On GitHub, the HTML representation is unable to render, please try loading this page with nbviewer.org.</b></div><div class=\"sk-container\" hidden><div class=\"sk-item\"><div class=\"sk-estimator sk-toggleable\"><input class=\"sk-toggleable__control sk-hidden--visually\" id=\"sk-estimator-id-1\" type=\"checkbox\" checked><label for=\"sk-estimator-id-1\" class=\"sk-toggleable__label sk-toggleable__label-arrow\">RandomForestClassifier</label><div class=\"sk-toggleable__content\"><pre>RandomForestClassifier(random_state=60)</pre></div></div></div></div></div>"
      ],
      "text/plain": [
       "RandomForestClassifier(random_state=60)"
      ]
     },
     "execution_count": 42,
     "metadata": {},
     "output_type": "execute_result"
    }
   ],
   "source": [
    "# fitting the model with the resampled data\n",
    "model.fit(X_resampled, y_resampled)"
   ]
  },
  {
   "cell_type": "markdown",
   "id": "4eef497c",
   "metadata": {
    "papermill": {
     "duration": 0.016014,
     "end_time": "2024-11-25T05:08:32.027786",
     "exception": false,
     "start_time": "2024-11-25T05:08:32.011772",
     "status": "completed"
    },
    "tags": []
   },
   "source": [
    "## Predicting"
   ]
  },
  {
   "cell_type": "code",
   "execution_count": 43,
   "id": "ac8f57d8",
   "metadata": {
    "execution": {
     "iopub.execute_input": "2024-11-25T05:08:32.060820Z",
     "iopub.status.busy": "2024-11-25T05:08:32.059962Z",
     "iopub.status.idle": "2024-11-25T05:08:32.115483Z",
     "shell.execute_reply": "2024-11-25T05:08:32.114582Z"
    },
    "papermill": {
     "duration": 0.074565,
     "end_time": "2024-11-25T05:08:32.117868",
     "exception": false,
     "start_time": "2024-11-25T05:08:32.043303",
     "status": "completed"
    },
    "tags": []
   },
   "outputs": [],
   "source": [
    "y_pred = model.predict(x_test)"
   ]
  },
  {
   "cell_type": "markdown",
   "id": "48891584",
   "metadata": {
    "papermill": {
     "duration": 0.015189,
     "end_time": "2024-11-25T05:08:32.148351",
     "exception": false,
     "start_time": "2024-11-25T05:08:32.133162",
     "status": "completed"
    },
    "tags": []
   },
   "source": [
    "## Model Evaluation"
   ]
  },
  {
   "cell_type": "code",
   "execution_count": 44,
   "id": "8925b654",
   "metadata": {
    "execution": {
     "iopub.execute_input": "2024-11-25T05:08:32.180609Z",
     "iopub.status.busy": "2024-11-25T05:08:32.180249Z",
     "iopub.status.idle": "2024-11-25T05:08:32.185123Z",
     "shell.execute_reply": "2024-11-25T05:08:32.184261Z"
    },
    "papermill": {
     "duration": 0.023491,
     "end_time": "2024-11-25T05:08:32.187100",
     "exception": false,
     "start_time": "2024-11-25T05:08:32.163609",
     "status": "completed"
    },
    "tags": []
   },
   "outputs": [],
   "source": [
    "metrics = {'precision': precision_score,\n",
    "           'recall':recall_score}"
   ]
  },
  {
   "cell_type": "code",
   "execution_count": 45,
   "id": "802cdca1",
   "metadata": {
    "execution": {
     "iopub.execute_input": "2024-11-25T05:08:32.220675Z",
     "iopub.status.busy": "2024-11-25T05:08:32.219642Z",
     "iopub.status.idle": "2024-11-25T05:08:32.231804Z",
     "shell.execute_reply": "2024-11-25T05:08:32.230775Z"
    },
    "papermill": {
     "duration": 0.031475,
     "end_time": "2024-11-25T05:08:32.234123",
     "exception": false,
     "start_time": "2024-11-25T05:08:32.202648",
     "status": "completed"
    },
    "tags": []
   },
   "outputs": [
    {
     "name": "stdout",
     "output_type": "stream",
     "text": [
      "precision  :  0.765162012599431\n",
      "recall  :  0.7592794759825328\n"
     ]
    }
   ],
   "source": [
    "for name, metric in metrics.items():\n",
    "    print(name, ' : ', metric(y_test, y_pred, average='weighted'))"
   ]
  },
  {
   "cell_type": "markdown",
   "id": "7fbde193",
   "metadata": {
    "papermill": {
     "duration": 0.015146,
     "end_time": "2024-11-25T05:08:32.265130",
     "exception": false,
     "start_time": "2024-11-25T05:08:32.249984",
     "status": "completed"
    },
    "tags": []
   },
   "source": [
    "## Understanding the Model"
   ]
  },
  {
   "cell_type": "code",
   "execution_count": 46,
   "id": "d461a745",
   "metadata": {
    "execution": {
     "iopub.execute_input": "2024-11-25T05:08:32.297563Z",
     "iopub.status.busy": "2024-11-25T05:08:32.297132Z",
     "iopub.status.idle": "2024-11-25T05:08:32.311594Z",
     "shell.execute_reply": "2024-11-25T05:08:32.310560Z"
    },
    "papermill": {
     "duration": 0.033431,
     "end_time": "2024-11-25T05:08:32.313909",
     "exception": false,
     "start_time": "2024-11-25T05:08:32.280478",
     "status": "completed"
    },
    "tags": []
   },
   "outputs": [],
   "source": [
    "# to get the values of importance of features in the model.\n",
    "feature_importances = model.feature_importances_"
   ]
  },
  {
   "cell_type": "code",
   "execution_count": 47,
   "id": "c341ad19",
   "metadata": {
    "execution": {
     "iopub.execute_input": "2024-11-25T05:08:32.346876Z",
     "iopub.status.busy": "2024-11-25T05:08:32.346475Z",
     "iopub.status.idle": "2024-11-25T05:08:32.351292Z",
     "shell.execute_reply": "2024-11-25T05:08:32.350316Z"
    },
    "papermill": {
     "duration": 0.023791,
     "end_time": "2024-11-25T05:08:32.353392",
     "exception": false,
     "start_time": "2024-11-25T05:08:32.329601",
     "status": "completed"
    },
    "tags": []
   },
   "outputs": [],
   "source": [
    "#getting a list of all the feature names\n",
    "feature_names = x_train.columns"
   ]
  },
  {
   "cell_type": "code",
   "execution_count": 48,
   "id": "ee2fc382",
   "metadata": {
    "execution": {
     "iopub.execute_input": "2024-11-25T05:08:32.385823Z",
     "iopub.status.busy": "2024-11-25T05:08:32.385460Z",
     "iopub.status.idle": "2024-11-25T05:08:32.638261Z",
     "shell.execute_reply": "2024-11-25T05:08:32.637224Z"
    },
    "papermill": {
     "duration": 0.271663,
     "end_time": "2024-11-25T05:08:32.640554",
     "exception": false,
     "start_time": "2024-11-25T05:08:32.368891",
     "status": "completed"
    },
    "tags": []
   },
   "outputs": [
    {
     "data": {
      "image/png": "[encoded data removed]",
      "text/plain": [
       "<Figure size 640x480 with 1 Axes>"
      ]
     },
     "metadata": {},
     "output_type": "display_data"
    }
   ],
   "source": [
    "# plotting the feature importances\n",
    "plt.barh(feature_names, feature_importances)\n",
    "plt.xlabel(\"Feature Importance\")\n",
    "plt.title(\"Feature Importance for Random Forest\")\n",
    "plt.show()"
   ]
  },
  {
   "cell_type": "markdown",
   "id": "5c4daee6",
   "metadata": {
    "papermill": {
     "duration": 0.015721,
     "end_time": "2024-11-25T05:08:32.673002",
     "exception": false,
     "start_time": "2024-11-25T05:08:32.657281",
     "status": "completed"
    },
    "tags": []
   },
   "source": [
    "# Conclusion:"
   ]
  },
  {
   "cell_type": "markdown",
   "id": "51b8bfc7",
   "metadata": {
    "papermill": {
     "duration": 0.015655,
     "end_time": "2024-11-25T05:08:32.704645",
     "exception": false,
     "start_time": "2024-11-25T05:08:32.688990",
     "status": "completed"
    },
    "tags": []
   },
   "source": [
    "**> We can safely say that the number of updates has the highest impact in deciding the medal that the model will receive.**\n",
    "\n",
    "**> The second most important factor being the size of the file.\n",
    "(Files having the size around 1GB seem to get most Gold medals.)**"
   ]
  },
  {
   "cell_type": "markdown",
   "id": "ccb9ddd6",
   "metadata": {
    "papermill": {
     "duration": 0.015691,
     "end_time": "2024-11-25T05:08:32.736271",
     "exception": false,
     "start_time": "2024-11-25T05:08:32.720580",
     "status": "completed"
    },
    "tags": []
   },
   "source": []
  }
 ],
 "metadata": {
  "kaggle": {
   "accelerator": "none",
   "dataSources": [
    {
     "datasetId": 5898748,
     "sourceId": 9656117,
     "sourceType": "datasetVersion"
    }
   ],
   "dockerImageVersionId": 30775,
   "isGpuEnabled": false,
   "isInternetEnabled": false,
   "language": "python",
   "sourceType": "notebook"
  },
  "kernelspec": {
   "display_name": "Python 3",
   "language": "python",
   "name": "python3"
  },
  "language_info": {
   "codemirror_mode": {
    "name": "ipython",
    "version": 3
   },
   "file_extension": ".py",
   "mimetype": "text/x-python",
   "name": "python",
   "nbconvert_exporter": "python",
   "pygments_lexer": "ipython3",
   "version": "3.10.14"
  },
  "papermill": {
   "default_parameters": {},
   "duration": 13.348724,
   "end_time": "2024-11-25T05:08:33.474166",
   "environment_variables": {},
   "exception": null,
   "input_path": "__notebook__.ipynb",
   "output_path": "__notebook__.ipynb",
   "parameters": {},
   "start_time": "2024-11-25T05:08:20.125442",
   "version": "2.6.0"
  }
 },
 "nbformat": 4,
 "nbformat_minor": 5
}
